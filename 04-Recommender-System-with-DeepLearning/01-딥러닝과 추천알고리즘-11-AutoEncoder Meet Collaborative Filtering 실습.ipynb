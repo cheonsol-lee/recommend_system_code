{
 "cells": [
  {
   "cell_type": "markdown",
   "metadata": {
    "id": "1hRxU0XceJ7T"
   },
   "source": [
    "# AutoEncoder Meet Collaborative Filtering\n",
    "\n",
    "- Collaborative Filtering을 위해 user-item matrix 만들기\n",
    "- AutoEncoder 모델 구조 정의하기\n",
    "\n",
    "* Training Deep AutoEncoder 논문은 [저자 코드](https://github.com/NVIDIA/DeepRecommender) 참고"
   ]
  },
  {
   "cell_type": "markdown",
   "metadata": {
    "id": "pDXlMV8Y60jX"
   },
   "source": [
    "## 논문 종류\n",
    "- AutoRec\n",
    "- Training Deep AutoEncoder\n",
    "- Variational AutoEncoder"
   ]
  },
  {
   "cell_type": "markdown",
   "metadata": {
    "id": "j33t09nr1cBy"
   },
   "source": [
    "## 1. Data Loader"
   ]
  },
  {
   "cell_type": "code",
   "execution_count": 1,
   "metadata": {
    "colab": {
     "base_uri": "https://localhost:8080/"
    },
    "executionInfo": {
     "elapsed": 17483,
     "status": "ok",
     "timestamp": 1610360044080,
     "user": {
      "displayName": "Jaewon Fastcampus",
      "photoUrl": "",
      "userId": "05122666633107220130"
     },
     "user_tz": -540
    },
    "id": "5hyvybxs2erv",
    "outputId": "a6b880df-931a-47db-91a0-f728692b9420"
   },
   "outputs": [],
   "source": [
    "# from google.colab import drive\n",
    "# drive.mount('/content/drive')\n",
    "data_path = './../data/kmrd/kmr_dataset/datafile/kmrd-small'"
   ]
  },
  {
   "cell_type": "code",
   "execution_count": 4,
   "metadata": {
    "executionInfo": {
     "elapsed": 5865,
     "status": "ok",
     "timestamp": 1610360075331,
     "user": {
      "displayName": "Jaewon Fastcampus",
      "photoUrl": "",
      "userId": "05122666633107220130"
     },
     "user_tz": -540
    },
    "id": "Sjh9_2K42mr_"
   },
   "outputs": [],
   "source": [
    "import torch\n",
    "from torch.utils.data import Dataset, DataLoader\n",
    "import pandas as pd\n",
    "import os\n",
    "from sklearn.model_selection import train_test_split\n",
    "import numpy as np"
   ]
  },
  {
   "cell_type": "code",
   "execution_count": 5,
   "metadata": {
    "executionInfo": {
     "elapsed": 1079,
     "status": "ok",
     "timestamp": 1610360168695,
     "user": {
      "displayName": "Jaewon Fastcampus",
      "photoUrl": "",
      "userId": "05122666633107220130"
     },
     "user_tz": -540
    },
    "id": "VapCgQaG392F"
   },
   "outputs": [],
   "source": [
    "def read_data(data_path):\n",
    "    df = pd.read_csv(os.path.join(data_path,'rates.csv'))[:10000]\n",
    "    train_df, val_df = train_test_split(df, test_size=0.2, random_state=1234, shuffle=True)\n",
    "\n",
    "    user_to_index = {original: idx for idx, original in enumerate(df.user.unique())}\n",
    "    movie_to_index = {original: idx for idx, original in enumerate(df.movie.unique())}\n",
    "\n",
    "    return train_df, val_df, user_to_index, movie_to_index"
   ]
  },
  {
   "cell_type": "code",
   "execution_count": 6,
   "metadata": {
    "executionInfo": {
     "elapsed": 977,
     "status": "ok",
     "timestamp": 1610360365019,
     "user": {
      "displayName": "Jaewon Fastcampus",
      "photoUrl": "",
      "userId": "05122666633107220130"
     },
     "user_tz": -540
    },
    "id": "HQsVo6HT2zKl"
   },
   "outputs": [],
   "source": [
    "class KMRDdataset(Dataset):\n",
    "    def __init__(self, df, user_to_index, movie_to_index, item_based=True):\n",
    "        self.min_rating = min(df.rate)\n",
    "        self.max_rating = max(df.rate)\n",
    "\n",
    "        self.user = [user_to_index[u] for u in df.user.values]\n",
    "        self.movie = [movie_to_index[m] for m in df.movie.values]\n",
    "        self.rating = df.rate.values\n",
    "\n",
    "        if item_based:\n",
    "            input_tensor = torch.LongTensor([self.movie, self.user])\n",
    "            self.data = torch.sparse.FloatTensor(input_tensor, torch.FloatTensor(self.rating),\n",
    "                                             torch.Size([len(movie_to_index), len(user_to_index)])).to_dense()\n",
    "        else:\n",
    "            input_tensor = torch.LongTensor([self.user, self.movie])\n",
    "            self.data = torch.sparse.FloatTensor(input_tensor, torch.FloatTensor(self.rating),\n",
    "                                             torch.Size([len(user_to_index), len(movie_to_index)])).to_dense()\n",
    "\n",
    "\n",
    "    def __len__(self):\n",
    "        return len(self.data)\n",
    "    \n",
    "    def __getitem__(self, idx):\n",
    "        return self.data[idx]\n"
   ]
  },
  {
   "cell_type": "code",
   "execution_count": 7,
   "metadata": {
    "executionInfo": {
     "elapsed": 1864,
     "status": "ok",
     "timestamp": 1610360373011,
     "user": {
      "displayName": "Jaewon Fastcampus",
      "photoUrl": "",
      "userId": "05122666633107220130"
     },
     "user_tz": -540
    },
    "id": "l6PFQI_T4BWC"
   },
   "outputs": [],
   "source": [
    "data_path = './../data/kmrd/kmr_dataset/datafile/kmrd-small'\n",
    "train_df, val_df, user_to_index, movie_to_index = read_data(data_path=data_path)"
   ]
  },
  {
   "cell_type": "code",
   "execution_count": 8,
   "metadata": {
    "executionInfo": {
     "elapsed": 691,
     "status": "ok",
     "timestamp": 1610360404278,
     "user": {
      "displayName": "Jaewon Fastcampus",
      "photoUrl": "",
      "userId": "05122666633107220130"
     },
     "user_tz": -540
    },
    "id": "tg4kGTuA7EYx"
   },
   "outputs": [],
   "source": [
    "train_dataset = KMRDdataset(train_df, user_to_index, movie_to_index)\n",
    "val_dataset = KMRDdataset(val_df, user_to_index, movie_to_index)"
   ]
  },
  {
   "cell_type": "code",
   "execution_count": 9,
   "metadata": {
    "colab": {
     "base_uri": "https://localhost:8080/"
    },
    "executionInfo": {
     "elapsed": 1426,
     "status": "ok",
     "timestamp": 1610360420941,
     "user": {
      "displayName": "Jaewon Fastcampus",
      "photoUrl": "",
      "userId": "05122666633107220130"
     },
     "user_tz": -540
    },
    "id": "af7ltEfi8fvU",
    "outputId": "1c397368-2d08-4fe5-e1db-3f7a04596fb1"
   },
   "outputs": [
    {
     "name": "stdout",
     "output_type": "stream",
     "text": [
      "(8000, 4)\n",
      "torch.Size([466])\n",
      "(2000, 4)\n",
      "torch.Size([466])\n"
     ]
    }
   ],
   "source": [
    "print(train_df.shape)\n",
    "print(train_dataset.data[0].size())\n",
    "print(val_df.shape)\n",
    "print(val_dataset.data[0].size())"
   ]
  },
  {
   "cell_type": "code",
   "execution_count": 10,
   "metadata": {},
   "outputs": [
    {
     "data": {
      "text/html": [
       "<div>\n",
       "<style scoped>\n",
       "    .dataframe tbody tr th:only-of-type {\n",
       "        vertical-align: middle;\n",
       "    }\n",
       "\n",
       "    .dataframe tbody tr th {\n",
       "        vertical-align: top;\n",
       "    }\n",
       "\n",
       "    .dataframe thead th {\n",
       "        text-align: right;\n",
       "    }\n",
       "</style>\n",
       "<table border=\"1\" class=\"dataframe\">\n",
       "  <thead>\n",
       "    <tr style=\"text-align: right;\">\n",
       "      <th></th>\n",
       "      <th>user</th>\n",
       "      <th>movie</th>\n",
       "      <th>rate</th>\n",
       "      <th>time</th>\n",
       "    </tr>\n",
       "  </thead>\n",
       "  <tbody>\n",
       "    <tr>\n",
       "      <th>5525</th>\n",
       "      <td>169</td>\n",
       "      <td>10441</td>\n",
       "      <td>7</td>\n",
       "      <td>1198656240</td>\n",
       "    </tr>\n",
       "    <tr>\n",
       "      <th>5034</th>\n",
       "      <td>146</td>\n",
       "      <td>10490</td>\n",
       "      <td>1</td>\n",
       "      <td>1128579720</td>\n",
       "    </tr>\n",
       "    <tr>\n",
       "      <th>4709</th>\n",
       "      <td>140</td>\n",
       "      <td>10101</td>\n",
       "      <td>7</td>\n",
       "      <td>1281197820</td>\n",
       "    </tr>\n",
       "    <tr>\n",
       "      <th>4218</th>\n",
       "      <td>119</td>\n",
       "      <td>10448</td>\n",
       "      <td>10</td>\n",
       "      <td>1381241340</td>\n",
       "    </tr>\n",
       "    <tr>\n",
       "      <th>917</th>\n",
       "      <td>29</td>\n",
       "      <td>10351</td>\n",
       "      <td>10</td>\n",
       "      <td>1181959860</td>\n",
       "    </tr>\n",
       "  </tbody>\n",
       "</table>\n",
       "</div>"
      ],
      "text/plain": [
       "      user  movie  rate        time\n",
       "5525   169  10441     7  1198656240\n",
       "5034   146  10490     1  1128579720\n",
       "4709   140  10101     7  1281197820\n",
       "4218   119  10448    10  1381241340\n",
       "917     29  10351    10  1181959860"
      ]
     },
     "execution_count": 10,
     "metadata": {},
     "output_type": "execute_result"
    }
   ],
   "source": [
    "train_df.head()"
   ]
  },
  {
   "cell_type": "code",
   "execution_count": 11,
   "metadata": {
    "colab": {
     "base_uri": "https://localhost:8080/"
    },
    "executionInfo": {
     "elapsed": 643,
     "status": "ok",
     "timestamp": 1610360512384,
     "user": {
      "displayName": "Jaewon Fastcampus",
      "photoUrl": "",
      "userId": "05122666633107220130"
     },
     "user_tz": -540
    },
    "id": "BUbaBsqX9o-F",
    "outputId": "2248d9c4-a2e5-446d-898f-25608130bdf0"
   },
   "outputs": [
    {
     "name": "stdout",
     "output_type": "stream",
     "text": [
      "466\n"
     ]
    }
   ],
   "source": [
    "print(len(list(user_to_index.keys())))"
   ]
  },
  {
   "cell_type": "code",
   "execution_count": 17,
   "metadata": {
    "id": "N9cK9qRk9-cw"
   },
   "outputs": [
    {
     "data": {
      "text/plain": [
       "tensor([ 0.,  0.,  0.,  0.,  0.,  0.,  0.,  0.,  0.,  0.,  0.,  0.,  0.,  0.,\n",
       "         0.,  0.,  0.,  0.,  0., 10.,  0.,  0.,  0.,  0.,  0.,  0.,  0.,  0.,\n",
       "         0.,  0.,  0.,  0.,  0.,  0.,  0.,  0.,  0.,  0.,  0.,  0.,  0.,  0.,\n",
       "         0.,  0., 27.,  0.,  0.,  0.,  0.,  0.,  0.,  0.,  0.,  0.,  0.,  0.,\n",
       "         0.,  0.,  0.,  0.,  0.,  0.,  0.,  0.,  0.,  8.,  0.,  0.,  0.,  0.,\n",
       "         0.,  0.,  0.,  0.,  0.,  0.,  8.,  9.,  0., 10.,  0.,  9.,  0.,  0.,\n",
       "         0.,  0.,  5.,  0.,  0.,  0.,  0., 10.,  0.,  0.,  0.,  9.,  0.,  0.,\n",
       "         0.,  0.,  0.,  0.,  0.,  0.,  0.,  0.,  0.,  0.,  0.,  0.,  9.,  0.,\n",
       "         0.,  0.,  0.,  0.,  0., 10.,  0.,  1.,  0.,  0.,  0., 10.,  0.,  0.,\n",
       "         0.,  0.,  0.,  0.,  9.,  0.,  0.,  0.,  0.,  0.,  0.,  0.,  0.,  0.,\n",
       "         9.,  0.,  0.,  0.,  0.,  0.,  0.,  0.,  0.,  0.,  0.,  0.,  0.,  0.,\n",
       "         0.,  0.,  0.,  0.,  8.,  0.,  0., 10.,  0.,  0., 10.,  0.,  0.,  0.,\n",
       "         0.,  0., 10.,  0.,  0.,  0.,  0.,  0.,  9.,  0.,  0., 10.,  0.,  0.,\n",
       "         7.,  0.,  0.,  0.,  0.,  8.,  0.,  7.,  0.,  0.,  1.,  0.,  0.,  0.,\n",
       "         0.,  0.,  0.,  0.,  0., 10.,  0.,  0.,  0.,  9.,  0.,  0.,  0.,  0.,\n",
       "         0.,  0.,  0.,  0.,  7.,  0.,  0.,  0.,  0.,  0.,  0.,  0., 19.,  0.,\n",
       "         0.,  0.,  0.,  0.,  0.,  0.,  0., 10.,  0.,  0.,  0.,  0.,  0.,  0.,\n",
       "         0.,  0.,  0.,  0.,  9.,  0.,  0.,  0.,  0.,  0.,  0.,  0.,  0.,  0.,\n",
       "         0.,  0.,  0.,  0.,  0.,  0.,  0.,  0.,  0.,  0.,  0.,  0.,  0.,  0.,\n",
       "         0.,  0.,  0.,  0.,  0.,  0.,  0.,  0.,  0.,  0.,  0.,  0.,  0.,  0.,\n",
       "         0.,  0.,  0.,  0.,  0.,  0.,  0.,  0.,  0.,  0.,  0.,  0.,  0.,  0.,\n",
       "         0.,  0.,  0.,  0.,  0.,  0.,  0., 10.,  0.,  0.,  0.,  0.,  8.,  0.,\n",
       "        10.,  0.,  0., 10., 10.,  0.,  0.,  0.,  0.,  0.,  0.,  0.,  0.,  0.,\n",
       "         0.,  0.,  0.,  0., 10.,  0.,  0.,  0.,  0.,  0.,  0.,  0.,  0.,  0.,\n",
       "         0.,  0.,  0.,  0.,  0.,  0.,  0.,  0., 20.,  0.,  0.,  0.,  0.,  0.,\n",
       "         0.,  0.,  0.,  0.,  0.,  0., 10.,  0.,  0.,  0.,  0.,  0.,  0.,  0.,\n",
       "         0.,  0., 10.,  0.,  0.,  0.,  0.,  0.,  0.,  0.,  0.,  0.,  0.,  0.,\n",
       "         0.,  0.,  0.,  0.,  0.,  0.,  0.,  0.,  0.,  0.,  0.,  0.,  0.,  0.,\n",
       "         0.,  0.,  0.,  0.,  0.,  0.,  0.,  0.,  0.,  0.,  0.,  0.,  0.,  0.,\n",
       "         0.,  0.,  0.,  0.,  0.,  0.,  0.,  0.,  0.,  9.,  0.,  0.,  0.,  0.,\n",
       "         0.,  0.,  0.,  0.,  0.,  0.,  0.,  0., 20.,  0.,  0.,  0.,  0.,  0.,\n",
       "         0., 10.,  0.,  0.,  0.,  0.,  0.,  0.,  0.,  0.,  0.,  0.,  0.,  0.,\n",
       "         0.,  0.,  0.,  0.,  0.,  0.,  0.,  0.,  0.,  0.,  0.,  0.,  0.,  0.,\n",
       "         0.,  0.,  0., 20.])"
      ]
     },
     "execution_count": 17,
     "metadata": {},
     "output_type": "execute_result"
    }
   ],
   "source": [
    "train_dataset.data[0]"
   ]
  },
  {
   "cell_type": "code",
   "execution_count": 18,
   "metadata": {
    "executionInfo": {
     "elapsed": 657,
     "status": "ok",
     "timestamp": 1610360594702,
     "user": {
      "displayName": "Jaewon Fastcampus",
      "photoUrl": "",
      "userId": "05122666633107220130"
     },
     "user_tz": -540
    },
    "id": "UdVN39PZ9KTW"
   },
   "outputs": [],
   "source": [
    "train_dataloader = DataLoader(train_dataset, batch_size=64, shuffle=True)\n",
    "val_dataloader = DataLoader(val_dataset, batch_size=16, shuffle=True)"
   ]
  },
  {
   "cell_type": "markdown",
   "metadata": {
    "id": "1YAz1zC1enpT"
   },
   "source": [
    "## 2. Define AutoEncoder "
   ]
  },
  {
   "cell_type": "code",
   "execution_count": 19,
   "metadata": {
    "executionInfo": {
     "elapsed": 668,
     "status": "ok",
     "timestamp": 1610360629681,
     "user": {
      "displayName": "Jaewon Fastcampus",
      "photoUrl": "",
      "userId": "05122666633107220130"
     },
     "user_tz": -540
    },
    "id": "ZNIslGCBesxV"
   },
   "outputs": [],
   "source": [
    "import numpy as np\n",
    "import pandas as pd\n",
    "import torch\n",
    "import torch.nn as nn\n",
    "import torch.nn.parallel\n",
    "import torch.optim as optim\n",
    "import torch.utils.data\n",
    "from torch.autograd import Variable\n",
    "import torch.nn.init as weight_init"
   ]
  },
  {
   "cell_type": "code",
   "execution_count": 21,
   "metadata": {
    "executionInfo": {
     "elapsed": 785,
     "status": "ok",
     "timestamp": 1610361427612,
     "user": {
      "displayName": "Jaewon Fastcampus",
      "photoUrl": "",
      "userId": "05122666633107220130"
     },
     "user_tz": -540
    },
    "id": "PLB11LGtCqpc"
   },
   "outputs": [],
   "source": [
    "class SimpleAutoEncoder(nn.Module):\n",
    "    def __init__(self, num_inputs, num_hiddens, kind='sigmoid', dropout=None):\n",
    "        super(SimpleAutoEncoder, self).__init__()\n",
    "        # encoder -> hidden -> decoder\n",
    "        # input -> hidden -> output\n",
    "        # input -> hidden : encoder\n",
    "        # hidden -> output = input : decoder\n",
    "        self.encoder = nn.Sequential(nn.Linear(num_inputs, num_hiddens), self.activation(kind))\n",
    "        self.decoder = nn.Sequential(nn.Linear(num_hiddens, num_inputs), self.activation(kind))  \n",
    "\n",
    "    def activation(self, kind):\n",
    "        if kind == 'selu':\n",
    "            return nn.SELU()\n",
    "        elif kind == 'relu':\n",
    "            return nn.ReLU()\n",
    "        elif kind == 'relu6':\n",
    "            return nn.ReLU6()\n",
    "        elif kind == 'sigmoid':\n",
    "            return nn.Sigmoid()\n",
    "        elif kind == 'tanh':\n",
    "            return nn.Tanh()\n",
    "        elif kind == 'elu':\n",
    "            return nn.ELU()\n",
    "        elif kind == 'lrelu':\n",
    "            return nn.LeakyReLU()\n",
    "        elif kind == 'none':\n",
    "            return input\n",
    "        else:\n",
    "            raise ValueError('Unknown non-linearity type')\n",
    "\n",
    "    def forward(self, x):\n",
    "        return self.decoder(self.encoder(x))"
   ]
  },
  {
   "cell_type": "code",
   "execution_count": 27,
   "metadata": {
    "id": "cB24ZmTNkX4Y"
   },
   "outputs": [],
   "source": [
    "class DeepAutoEncoder(nn.Module):\n",
    "    def __init__(self, num_hiddens, num_layers, dropout=None, nn_type='diamond'):\n",
    "        super(AutoEncoder, self).__init__()\n",
    "        # input -> hidden -> output\n",
    "        # input -> hidden(10) -> ... -> hidden(10) -> output = input\n",
    "        self.encoder, self.decoder = self.generate_layers(num_hiddens, num_layers, dropout, nn_type)\n",
    "\n",
    "    def forward(self, x):\n",
    "        return self.decoder(self.encoder(x))\n",
    "  \n",
    "    def generate_layers(self, num_hiddens, num_layers, dropout=None, nn_type='diamond'):\n",
    "        # hidden layers -> [50, 25, 12, 6, 12, 25, 50], [100 50 100] -> 100, 50, 60, 50 100 \n",
    "        if nn_type == 'diamond':\n",
    "            encoder_modules = []\n",
    "            decoder_modules = []\n",
    "\n",
    "            hidden_layers = []\n",
    "            temp = num_hiddens\n",
    "            for idx, x in enumerate(range(num_layers)):\n",
    "                if idx == 0:\n",
    "                    hidden_layers.append(temp)\n",
    "                else:\n",
    "                    hidden_layers.append(int(temp/2))\n",
    "                temp = temp/2\n",
    "            hidden_layers = [x for x in hidden_layers if x > 10]\n",
    "\n",
    "          # encoder\n",
    "            for idx, num_hidden in enumerate(hidden_layers):\n",
    "                if idx < len(hidden_layers)-1:\n",
    "                    encoder_modules.append(nn.Linear(hidden_layers[idx], hidden_layers[idx+1], bias=True))\n",
    "                    encoder_modules.append(nn.Sigmoid())\n",
    "\n",
    "          # decoder\n",
    "            hidden_layers = list(reversed(hidden_layers))\n",
    "            for idx, num_hidden in enumerate(hidden_layers):\n",
    "                if idx < len(hidden_layers)-1:\n",
    "                    decoder_modules.append(nn.Linear(hidden_layers[idx], hidden_layers[idx+1], bias=True))\n",
    "                    decoder_modules.append(nn.Identity())\n",
    "\n",
    "        # num_hidden = 50, num_layers = 3 ->  input_dim -> [50, 50, 50] -> output_dim = input_dim \n",
    "        elif nn_type == 'constant':\n",
    "            hidden_layers = [num_hiddens] * num_layers\n",
    "            for idx, enc in enumerate(hidden_layers):\n",
    "                if idx < num_layers-1:\n",
    "                    encoder_modules.append(nn.Linear(hidden_layers[idx], hidden_layers[idx+1], bias=True))\n",
    "                    encoder_modules.append(nn.Sigmoid())\n",
    "                    decoder_modules.append(nn.Linear(hidden_layers[idx], hidden_layers[idx+1], bias=True))\n",
    "                    decoder_modules.append(nn.Identity())\n",
    "\n",
    "        if dropout is not None:    \n",
    "            encoder_modules = [x for y in (encoder_modules[i:i+2] + [nn.Dropout(dropout)] * (i < len(encoder_modules) - 1) \n",
    "                              for i in range(0, len(encoder_modules), 2)) for x in y]\n",
    "            decoder_modules = [x for y in (decoder_modules[i:i+2] + [nn.Dropout(dropout)] * (i < len(decoder_modules) - 1)\n",
    "                              for i in range(0, len(decoder_modules), 2)) for x in y]\n",
    "\n",
    "        encoder = nn.Sequential(*encoder_modules)\n",
    "        decoder = nn.Sequential(*decoder_modules)\n",
    "\n",
    "        return encoder, decoder"
   ]
  },
  {
   "cell_type": "markdown",
   "metadata": {
    "id": "qs3Vhx329WWf"
   },
   "source": [
    "## Train"
   ]
  },
  {
   "cell_type": "code",
   "execution_count": 28,
   "metadata": {
    "colab": {
     "base_uri": "https://localhost:8080/"
    },
    "executionInfo": {
     "elapsed": 725,
     "status": "ok",
     "timestamp": 1610361403891,
     "user": {
      "displayName": "Jaewon Fastcampus",
      "photoUrl": "",
      "userId": "05122666633107220130"
     },
     "user_tz": -540
    },
    "id": "0yT4duFy9tKl",
    "outputId": "858e843f-6094-452a-b464-0d60014499ed"
   },
   "outputs": [
    {
     "name": "stdout",
     "output_type": "stream",
     "text": [
      "466 532\n"
     ]
    }
   ],
   "source": [
    "num_users = len(user_to_index.keys())\n",
    "num_movies = len(movie_to_index.keys())\n",
    "print(num_users, num_movies)"
   ]
  },
  {
   "cell_type": "code",
   "execution_count": 29,
   "metadata": {
    "colab": {
     "base_uri": "https://localhost:8080/"
    },
    "executionInfo": {
     "elapsed": 914,
     "status": "ok",
     "timestamp": 1610361431364,
     "user": {
      "displayName": "Jaewon Fastcampus",
      "photoUrl": "",
      "userId": "05122666633107220130"
     },
     "user_tz": -540
    },
    "id": "iHRCKWme9orW",
    "outputId": "4053c33b-d61a-4d31-f051-881aa6da9918"
   },
   "outputs": [
    {
     "data": {
      "text/plain": [
       "SimpleAutoEncoder(\n",
       "  (encoder): Sequential(\n",
       "    (0): Linear(in_features=466, out_features=100, bias=True)\n",
       "    (1): SELU()\n",
       "  )\n",
       "  (decoder): Sequential(\n",
       "    (0): Linear(in_features=100, out_features=466, bias=True)\n",
       "    (1): SELU()\n",
       "  )\n",
       ")"
      ]
     },
     "execution_count": 29,
     "metadata": {},
     "output_type": "execute_result"
    }
   ],
   "source": [
    "model = SimpleAutoEncoder(num_inputs=num_users, num_hiddens=100, kind='selu')\n",
    "model"
   ]
  },
  {
   "cell_type": "code",
   "execution_count": 30,
   "metadata": {
    "executionInfo": {
     "elapsed": 1116,
     "status": "ok",
     "timestamp": 1610361447450,
     "user": {
      "displayName": "Jaewon Fastcampus",
      "photoUrl": "",
      "userId": "05122666633107220130"
     },
     "user_tz": -540
    },
    "id": "Kaoj5YWz9jQ7"
   },
   "outputs": [],
   "source": [
    "optimizer = optim.Adam(model.parameters(), lr=1e-3)"
   ]
  },
  {
   "cell_type": "code",
   "execution_count": 31,
   "metadata": {
    "colab": {
     "base_uri": "https://localhost:8080/"
    },
    "executionInfo": {
     "elapsed": 830,
     "status": "ok",
     "timestamp": 1610361465952,
     "user": {
      "displayName": "Jaewon Fastcampus",
      "photoUrl": "",
      "userId": "05122666633107220130"
     },
     "user_tz": -540
    },
    "id": "iNw873Wyxh3H",
    "outputId": "1a777543-0bc6-4b6d-ece6-58fa0f2f1020"
   },
   "outputs": [
    {
     "data": {
      "text/plain": [
       "SimpleAutoEncoder(\n",
       "  (encoder): Sequential(\n",
       "    (0): Linear(in_features=466, out_features=100, bias=True)\n",
       "    (1): SELU()\n",
       "  )\n",
       "  (decoder): Sequential(\n",
       "    (0): Linear(in_features=100, out_features=466, bias=True)\n",
       "    (1): SELU()\n",
       "  )\n",
       ")"
      ]
     },
     "execution_count": 31,
     "metadata": {},
     "output_type": "execute_result"
    }
   ],
   "source": [
    "def weights_init(m):\n",
    "    if isinstance(m, nn.Linear):\n",
    "        torch.nn.init.xavier_uniform_(m.weight)\n",
    "        torch.nn.init.zeros_(m.bias)\n",
    "\n",
    "model.apply(weights_init)"
   ]
  },
  {
   "cell_type": "code",
   "execution_count": 32,
   "metadata": {
    "colab": {
     "base_uri": "https://localhost:8080/"
    },
    "executionInfo": {
     "elapsed": 864,
     "status": "ok",
     "timestamp": 1610361470450,
     "user": {
      "displayName": "Jaewon Fastcampus",
      "photoUrl": "",
      "userId": "05122666633107220130"
     },
     "user_tz": -540
    },
    "id": "q9z-ujtJG9jB",
    "outputId": "a53016bb-29f1-4bc3-b950-1d1f6e6fca3c"
   },
   "outputs": [
    {
     "data": {
      "text/plain": [
       "torch.Size([466])"
      ]
     },
     "execution_count": 32,
     "metadata": {},
     "output_type": "execute_result"
    }
   ],
   "source": [
    "train_dataset.data[0].size()"
   ]
  },
  {
   "cell_type": "code",
   "execution_count": 33,
   "metadata": {
    "executionInfo": {
     "elapsed": 718,
     "status": "ok",
     "timestamp": 1610361496749,
     "user": {
      "displayName": "Jaewon Fastcampus",
      "photoUrl": "",
      "userId": "05122666633107220130"
     },
     "user_tz": -540
    },
    "id": "ofyyZ2wfH7df"
   },
   "outputs": [],
   "source": [
    "# NVIDIA Recommender System 참고\n",
    "def MSEloss(inputs, targets, size_average=False):\n",
    "    mask = targets != 0\n",
    "    num_ratings = torch.sum(mask.float())\n",
    "    criterion = nn.MSELoss(reduction='sum' if not size_average else 'mean')\n",
    "    return criterion(inputs * mask.float(), targets), Variable(torch.Tensor([1.0])) if size_average else num_ratings"
   ]
  },
  {
   "cell_type": "code",
   "execution_count": 35,
   "metadata": {
    "colab": {
     "base_uri": "https://localhost:8080/"
    },
    "executionInfo": {
     "elapsed": 683,
     "status": "ok",
     "timestamp": 1610361499374,
     "user": {
      "displayName": "Jaewon Fastcampus",
      "photoUrl": "",
      "userId": "05122666633107220130"
     },
     "user_tz": -540
    },
    "id": "YSgwkLYZ-kkt",
    "outputId": "12f99b54-c29d-4487-d7a1-9de88f823efe"
   },
   "outputs": [
    {
     "name": "stdout",
     "output_type": "stream",
     "text": [
      "8.719948768615723\n",
      "10.327935695648193\n",
      "9.459486166636148\n",
      "9.014458179473877\n",
      "9.354121780395507\n",
      "9.580408732096354\n",
      "9.442079407828194\n",
      "9.08173930644989\n",
      "8.849936485290527\n"
     ]
    }
   ],
   "source": [
    "model.train()\n",
    "train_loss = 0\n",
    "for idx, batch in enumerate(train_dataloader):\n",
    "    optimizer.zero_grad()\n",
    "    \n",
    "    pred = model(batch)\n",
    "    loss, num_ratings = MSEloss(pred, batch)    \n",
    "    loss = torch.sqrt(loss / num_ratings)\n",
    "    loss.backward()\n",
    "    train_loss += loss.item() \n",
    "    optimizer.step()\n",
    "    \n",
    "    print(train_loss / (idx+1))"
   ]
  },
  {
   "cell_type": "code",
   "execution_count": 36,
   "metadata": {
    "colab": {
     "base_uri": "https://localhost:8080/"
    },
    "executionInfo": {
     "elapsed": 651,
     "status": "ok",
     "timestamp": 1610361606220,
     "user": {
      "displayName": "Jaewon Fastcampus",
      "photoUrl": "",
      "userId": "05122666633107220130"
     },
     "user_tz": -540
    },
    "id": "451VvDfaF_V5",
    "outputId": "a6740018-b1d0-431f-ec49-991fbf42efc5"
   },
   "outputs": [
    {
     "name": "stdout",
     "output_type": "stream",
     "text": [
      "7.198406219482422\n",
      "7.337637662887573\n",
      "7.519812266031901\n",
      "7.684159755706787\n",
      "7.653632068634034\n",
      "7.618714729944865\n",
      "7.413025787898472\n",
      "7.439914226531982\n",
      "7.4061186578538685\n",
      "7.381730747222901\n",
      "7.340585275129839\n",
      "7.4332700570424395\n",
      "7.486155730027419\n",
      "7.482178790228708\n",
      "7.482217025756836\n",
      "7.528700888156891\n",
      "7.522076915292179\n",
      "7.526731305652195\n",
      "7.544797646371942\n",
      "7.510161328315735\n",
      "7.574219998859224\n",
      "7.61283920027993\n",
      "7.6149958527606465\n",
      "7.613094091415405\n",
      "7.622920455932618\n",
      "7.6314756503471965\n",
      "7.586476290667498\n",
      "7.566378235816956\n",
      "7.598283126436431\n",
      "7.58054747581482\n",
      "7.588120137491534\n",
      "7.608815565705299\n",
      "7.609856504382509\n",
      "7.733520662083345\n"
     ]
    }
   ],
   "source": [
    "model.eval()\n",
    "val_loss = 0\n",
    "with torch.no_grad():\n",
    "    for idx, batch in enumerate(val_dataloader):\n",
    "        pred = model(batch)\n",
    "        loss, num_ratings = MSEloss(pred, batch)\n",
    "        loss = torch.sqrt(loss / num_ratings)\n",
    "        val_loss += loss.item()\n",
    "\n",
    "        print(val_loss/(idx+1))"
   ]
  },
  {
   "cell_type": "code",
   "execution_count": null,
   "metadata": {
    "id": "PEesoy95Ldfk"
   },
   "outputs": [],
   "source": []
  }
 ],
 "metadata": {
  "accelerator": "GPU",
  "colab": {
   "authorship_tag": "ABX9TyOPxeRhF7TdmBALfcM4BE/8",
   "collapsed_sections": [],
   "name": "01-딥러닝과 추천알고리즘-11-AutoEncoder Meet Collaborative Filtering 실습.ipynb",
   "provenance": [],
   "toc_visible": true
  },
  "kernelspec": {
   "display_name": "Python 3",
   "language": "python",
   "name": "python3"
  },
  "language_info": {
   "codemirror_mode": {
    "name": "ipython",
    "version": 3
   },
   "file_extension": ".py",
   "mimetype": "text/x-python",
   "name": "python",
   "nbconvert_exporter": "python",
   "pygments_lexer": "ipython3",
   "version": "3.7.10"
  }
 },
 "nbformat": 4,
 "nbformat_minor": 4
}
