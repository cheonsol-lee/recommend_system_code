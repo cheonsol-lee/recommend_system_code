{
 "cells": [
  {
   "cell_type": "markdown",
   "metadata": {
    "id": "OKoehLiBvxu1"
   },
   "source": [
    "# Wide & Deep Learning for Recommender System\n",
    "\n",
    "- Google에서 App Store를 활용해서 발표한 논문([링크](https://arxiv.org/pdf/1606.07792.pdf))\n"
   ]
  },
  {
   "cell_type": "markdown",
   "metadata": {
    "id": "gWT-_N6MwcMK"
   },
   "source": [
    "## Google 공식 문서\n",
    "- Google의 AI Blog([링크](https://ai.googleblog.com/2016/06/wide-deep-learning-better-together-with.html))\n",
    "- Google의 Tensorflow github([링크](https://github.com/tensorflow/tensorflow/blob/v2.4.0/tensorflow/python/keras/premade/wide_deep.py#L34-L219))\n",
    "- TensorFlow v2.4 API\n",
    "  - [tf.keras.experimental.WideDeepModel](https://www.tensorflow.org/api_docs/python/tf/keras/experimental/WideDeepModel?hl=en#methods_2)\n",
    "  - [tf.estimator.DNNLinearCombinedClassifier](https://www.tensorflow.org/api_docs/python/tf/estimator/DNNLinearCombinedClassifier)"
   ]
  },
  {
   "cell_type": "markdown",
   "metadata": {
    "id": "21eFL-QIw82G"
   },
   "source": [
    "## 함께볼만한 PyTorch Library\n",
    "- [pytorch-widedeep](https://github.com/jrzaurin/pytorch-widedeep)"
   ]
  },
  {
   "cell_type": "code",
   "execution_count": 1,
   "metadata": {
    "tags": []
   },
   "outputs": [
    {
     "name": "stdout",
     "output_type": "stream",
     "text": [
      "Requirement already satisfied: pip in c:\\users\\user\\anaconda3\\envs\\py37\\lib\\site-packages (21.0.1)\n",
      "Collecting pip\n",
      "  Using cached pip-21.1.3-py3-none-any.whl (1.5 MB)\n",
      "Installing collected packages: pip\n",
      "  Attempting uninstall: pip\n",
      "    Found existing installation: pip 21.0.1\n",
      "    Uninstalling pip-21.0.1:\n",
      "      Successfully uninstalled pip-21.0.1\n"
     ]
    },
    {
     "name": "stderr",
     "output_type": "stream",
     "text": [
      "ERROR: Could not install packages due to an OSError: [WinError 5] 액세스가 거부되었습니다: 'C:\\\\Users\\\\user\\\\AppData\\\\Local\\\\Temp\\\\pip-uninstall-y2f7ba1k\\\\pip.exe'\n",
      "Consider using the `--user` option or check the permissions.\n",
      "\n"
     ]
    }
   ],
   "source": [
    "!pip install --upgrade pip"
   ]
  },
  {
   "cell_type": "code",
   "execution_count": 26,
   "metadata": {
    "collapsed": true,
    "id": "iQfI1H8CviWd",
    "jupyter": {
     "outputs_hidden": true
    },
    "tags": []
   },
   "outputs": [
    {
     "name": "stderr",
     "output_type": "stream",
     "text": [
      "C:\\Users\\user\\anaconda3\\envs\\kse_env\\lib\\site-packages\\ipykernel\\ipkernel.py:287: DeprecationWarning: `should_run_async` will not call `transform_cell` automatically in the future. Please pass the result to `transformed_cell` argument and any exception that happen during thetransform in `preprocessing_exc_tuple` in IPython 7.17 and above.\n",
      "  and should_run_async(code)\n"
     ]
    },
    {
     "name": "stdout",
     "output_type": "stream",
     "text": [
      "Collecting pytorch-widedeep\n",
      "  Using cached pytorch_widedeep-1.0.0-py3-none-any.whl (120 kB)\n",
      "Requirement already satisfied: torchvision in c:\\users\\user\\anaconda3\\envs\\kse_env\\lib\\site-packages (from pytorch-widedeep) (0.8.2)\n",
      "Requirement already satisfied: wrapt in c:\\users\\user\\anaconda3\\envs\\kse_env\\lib\\site-packages (from pytorch-widedeep) (1.12.1)\n",
      "Requirement already satisfied: tqdm in c:\\users\\user\\anaconda3\\envs\\kse_env\\lib\\site-packages (from pytorch-widedeep) (4.55.0)\n",
      "Requirement already satisfied: torch in c:\\users\\user\\anaconda3\\envs\\kse_env\\lib\\site-packages (from pytorch-widedeep) (1.7.1)\n",
      "Requirement already satisfied: gensim in c:\\users\\user\\anaconda3\\envs\\kse_env\\lib\\site-packages (from pytorch-widedeep) (3.8.3)\n",
      "Requirement already satisfied: imutils in c:\\users\\user\\anaconda3\\envs\\kse_env\\lib\\site-packages (from pytorch-widedeep) (0.5.4)\n",
      "Requirement already satisfied: einops in c:\\users\\user\\anaconda3\\envs\\kse_env\\lib\\site-packages (from pytorch-widedeep) (0.3.0)\n",
      "Requirement already satisfied: numpy in c:\\users\\user\\anaconda3\\envs\\kse_env\\lib\\site-packages (from pytorch-widedeep) (1.18.5)\n",
      "Requirement already satisfied: scipy in c:\\users\\user\\anaconda3\\envs\\kse_env\\lib\\site-packages (from pytorch-widedeep) (1.5.2)\n",
      "Requirement already satisfied: opencv-contrib-python in c:\\users\\user\\anaconda3\\envs\\kse_env\\lib\\site-packages (from pytorch-widedeep) (4.5.2.54)\n",
      "Requirement already satisfied: spacy in c:\\users\\user\\anaconda3\\envs\\kse_env\\lib\\site-packages (from pytorch-widedeep) (3.0.5)\n",
      "Requirement already satisfied: scikit-learn in c:\\users\\user\\anaconda3\\envs\\kse_env\\lib\\site-packages (from pytorch-widedeep) (0.23.2)\n",
      "Requirement already satisfied: pandas in c:\\users\\user\\anaconda3\\envs\\kse_env\\lib\\site-packages (from pytorch-widedeep) (1.1.3)\n",
      "Requirement already satisfied: Cython==0.29.14 in c:\\users\\user\\anaconda3\\envs\\kse_env\\lib\\site-packages (from gensim->pytorch-widedeep) (0.29.14)\n",
      "Requirement already satisfied: six>=1.5.0 in c:\\users\\user\\anaconda3\\envs\\kse_env\\lib\\site-packages (from gensim->pytorch-widedeep) (1.15.0)\n",
      "Requirement already satisfied: smart-open>=1.8.1 in c:\\users\\user\\anaconda3\\envs\\kse_env\\lib\\site-packages (from gensim->pytorch-widedeep) (3.0.0)\n",
      "Requirement already satisfied: requests in c:\\users\\user\\anaconda3\\envs\\kse_env\\lib\\site-packages (from smart-open>=1.8.1->gensim->pytorch-widedeep) (2.25.0)\n",
      "Requirement already satisfied: pytz>=2017.2 in c:\\users\\user\\anaconda3\\envs\\kse_env\\lib\\site-packages (from pandas->pytorch-widedeep) (2020.4)\n",
      "Requirement already satisfied: python-dateutil>=2.7.3 in c:\\users\\user\\anaconda3\\envs\\kse_env\\lib\\site-packages (from pandas->pytorch-widedeep) (2.8.1)\n",
      "Requirement already satisfied: chardet<4,>=3.0.2 in c:\\users\\user\\anaconda3\\envs\\kse_env\\lib\\site-packages (from requests->smart-open>=1.8.1->gensim->pytorch-widedeep) (3.0.4)\n",
      "Requirement already satisfied: certifi>=2017.4.17 in c:\\users\\user\\anaconda3\\envs\\kse_env\\lib\\site-packages (from requests->smart-open>=1.8.1->gensim->pytorch-widedeep) (2020.12.5)\n",
      "Requirement already satisfied: urllib3<1.27,>=1.21.1 in c:\\users\\user\\anaconda3\\envs\\kse_env\\lib\\site-packages (from requests->smart-open>=1.8.1->gensim->pytorch-widedeep) (1.25.11)\n",
      "Requirement already satisfied: idna<3,>=2.5 in c:\\users\\user\\anaconda3\\envs\\kse_env\\lib\\site-packages (from requests->smart-open>=1.8.1->gensim->pytorch-widedeep) (2.10)\n",
      "Requirement already satisfied: joblib>=0.11 in c:\\users\\user\\anaconda3\\envs\\kse_env\\lib\\site-packages (from scikit-learn->pytorch-widedeep) (0.17.0)\n",
      "Requirement already satisfied: threadpoolctl>=2.0.0 in c:\\users\\user\\anaconda3\\envs\\kse_env\\lib\\site-packages (from scikit-learn->pytorch-widedeep) (2.1.0)\n",
      "Requirement already satisfied: catalogue<2.1.0,>=2.0.1 in c:\\users\\user\\anaconda3\\envs\\kse_env\\lib\\site-packages (from spacy->pytorch-widedeep) (2.0.1)\n",
      "Requirement already satisfied: spacy-legacy<3.1.0,>=3.0.0 in c:\\users\\user\\anaconda3\\envs\\kse_env\\lib\\site-packages (from spacy->pytorch-widedeep) (3.0.1)\n",
      "Requirement already satisfied: murmurhash<1.1.0,>=0.28.0 in c:\\users\\user\\anaconda3\\envs\\kse_env\\lib\\site-packages (from spacy->pytorch-widedeep) (1.0.5)\n",
      "Requirement already satisfied: cymem<2.1.0,>=2.0.2 in c:\\users\\user\\anaconda3\\envs\\kse_env\\lib\\site-packages (from spacy->pytorch-widedeep) (2.0.5)\n",
      "Requirement already satisfied: typer<0.4.0,>=0.3.0 in c:\\users\\user\\anaconda3\\envs\\kse_env\\lib\\site-packages (from spacy->pytorch-widedeep) (0.3.2)\n",
      "Requirement already satisfied: setuptools in c:\\users\\user\\anaconda3\\envs\\kse_env\\lib\\site-packages (from spacy->pytorch-widedeep) (50.3.1.post20201107)\n",
      "Requirement already satisfied: packaging>=20.0 in c:\\users\\user\\anaconda3\\envs\\kse_env\\lib\\site-packages (from spacy->pytorch-widedeep) (20.9)\n",
      "Requirement already satisfied: preshed<3.1.0,>=3.0.2 in c:\\users\\user\\anaconda3\\envs\\kse_env\\lib\\site-packages (from spacy->pytorch-widedeep) (3.0.5)\n",
      "Requirement already satisfied: srsly<3.0.0,>=2.4.0 in c:\\users\\user\\anaconda3\\envs\\kse_env\\lib\\site-packages (from spacy->pytorch-widedeep) (2.4.0)\n",
      "Requirement already satisfied: jinja2 in c:\\users\\user\\anaconda3\\envs\\kse_env\\lib\\site-packages (from spacy->pytorch-widedeep) (2.11.2)\n",
      "Requirement already satisfied: wasabi<1.1.0,>=0.8.1 in c:\\users\\user\\anaconda3\\envs\\kse_env\\lib\\site-packages (from spacy->pytorch-widedeep) (0.8.2)\n",
      "Requirement already satisfied: pydantic<1.8.0,>=1.7.1 in c:\\users\\user\\anaconda3\\envs\\kse_env\\lib\\site-packages (from spacy->pytorch-widedeep) (1.7.3)\n",
      "Requirement already satisfied: pathy>=0.3.5 in c:\\users\\user\\anaconda3\\envs\\kse_env\\lib\\site-packages (from spacy->pytorch-widedeep) (0.4.0)\n",
      "Requirement already satisfied: thinc<8.1.0,>=8.0.2 in c:\\users\\user\\anaconda3\\envs\\kse_env\\lib\\site-packages (from spacy->pytorch-widedeep) (8.0.2)\n",
      "Requirement already satisfied: blis<0.8.0,>=0.4.0 in c:\\users\\user\\anaconda3\\envs\\kse_env\\lib\\site-packages (from spacy->pytorch-widedeep) (0.7.4)\n",
      "Requirement already satisfied: pyparsing>=2.0.2 in c:\\users\\user\\anaconda3\\envs\\kse_env\\lib\\site-packages (from packaging>=20.0->spacy->pytorch-widedeep) (2.4.7)\n",
      "Requirement already satisfied: click<7.2.0,>=7.1.1 in c:\\users\\user\\anaconda3\\envs\\kse_env\\lib\\site-packages (from typer<0.4.0,>=0.3.0->spacy->pytorch-widedeep) (7.1.2)\n",
      "Requirement already satisfied: MarkupSafe>=0.23 in c:\\users\\user\\anaconda3\\envs\\kse_env\\lib\\site-packages (from jinja2->spacy->pytorch-widedeep) (1.1.1)\n",
      "Requirement already satisfied: typing_extensions in c:\\users\\user\\anaconda3\\envs\\kse_env\\lib\\site-packages (from torch->pytorch-widedeep) (3.7.4.3)\n",
      "Requirement already satisfied: pillow>=4.1.1 in c:\\users\\user\\anaconda3\\envs\\kse_env\\lib\\site-packages (from torchvision->pytorch-widedeep) (8.0.1)\n",
      "Installing collected packages: pytorch-widedeep\n",
      "Successfully installed pytorch-widedeep-1.0.0\n"
     ]
    },
    {
     "name": "stderr",
     "output_type": "stream",
     "text": [
      "WARNING: Ignoring invalid distribution -pype1 (c:\\users\\user\\anaconda3\\envs\\kse_env\\lib\\site-packages)\n",
      "WARNING: Ignoring invalid distribution -onlpy (c:\\users\\user\\anaconda3\\envs\\kse_env\\lib\\site-packages)\n",
      "WARNING: Ignoring invalid distribution - (c:\\users\\user\\anaconda3\\envs\\kse_env\\lib\\site-packages)\n",
      "WARNING: Ignoring invalid distribution -pype1 (c:\\users\\user\\anaconda3\\envs\\kse_env\\lib\\site-packages)\n",
      "WARNING: Ignoring invalid distribution -onlpy (c:\\users\\user\\anaconda3\\envs\\kse_env\\lib\\site-packages)\n",
      "WARNING: Ignoring invalid distribution - (c:\\users\\user\\anaconda3\\envs\\kse_env\\lib\\site-packages)\n",
      "WARNING: Ignoring invalid distribution -pype1 (c:\\users\\user\\anaconda3\\envs\\kse_env\\lib\\site-packages)\n",
      "WARNING: Ignoring invalid distribution -onlpy (c:\\users\\user\\anaconda3\\envs\\kse_env\\lib\\site-packages)\n",
      "WARNING: Ignoring invalid distribution - (c:\\users\\user\\anaconda3\\envs\\kse_env\\lib\\site-packages)\n",
      "WARNING: Ignoring invalid distribution -pype1 (c:\\users\\user\\anaconda3\\envs\\kse_env\\lib\\site-packages)\n",
      "WARNING: Ignoring invalid distribution -onlpy (c:\\users\\user\\anaconda3\\envs\\kse_env\\lib\\site-packages)\n",
      "WARNING: Ignoring invalid distribution - (c:\\users\\user\\anaconda3\\envs\\kse_env\\lib\\site-packages)\n",
      "WARNING: Ignoring invalid distribution -pype1 (c:\\users\\user\\anaconda3\\envs\\kse_env\\lib\\site-packages)\n",
      "WARNING: Ignoring invalid distribution -onlpy (c:\\users\\user\\anaconda3\\envs\\kse_env\\lib\\site-packages)\n",
      "WARNING: Ignoring invalid distribution - (c:\\users\\user\\anaconda3\\envs\\kse_env\\lib\\site-packages)\n",
      "WARNING: Ignoring invalid distribution -pype1 (c:\\users\\user\\anaconda3\\envs\\kse_env\\lib\\site-packages)\n",
      "WARNING: Ignoring invalid distribution -onlpy (c:\\users\\user\\anaconda3\\envs\\kse_env\\lib\\site-packages)\n",
      "WARNING: Ignoring invalid distribution - (c:\\users\\user\\anaconda3\\envs\\kse_env\\lib\\site-packages)\n",
      "C:\\Users\\user\\anaconda3\\envs\\kse_env\\lib\\site-packages\\IPython\\utils\\_process_win32.py:145: ResourceWarning: unclosed file <_io.BufferedWriter name=4>\n",
      "  return process_handler(cmd, _system_body)\n",
      "ResourceWarning: Enable tracemalloc to get the object allocation traceback\n",
      "C:\\Users\\user\\anaconda3\\envs\\kse_env\\lib\\site-packages\\IPython\\utils\\_process_win32.py:145: ResourceWarning: unclosed file <_io.BufferedReader name=5>\n",
      "  return process_handler(cmd, _system_body)\n",
      "ResourceWarning: Enable tracemalloc to get the object allocation traceback\n",
      "C:\\Users\\user\\anaconda3\\envs\\kse_env\\lib\\site-packages\\IPython\\utils\\_process_win32.py:145: ResourceWarning: unclosed file <_io.BufferedReader name=6>\n",
      "  return process_handler(cmd, _system_body)\n",
      "ResourceWarning: Enable tracemalloc to get the object allocation traceback\n"
     ]
    }
   ],
   "source": [
    "!pip install pytorch-widedeep"
   ]
  },
  {
   "cell_type": "code",
   "execution_count": 2,
   "metadata": {
    "executionInfo": {
     "elapsed": 2208,
     "status": "ok",
     "timestamp": 1610010445765,
     "user": {
      "displayName": "Jaewon Fastcampus",
      "photoUrl": "",
      "userId": "05122666633107220130"
     },
     "user_tz": -540
    },
    "id": "R0qUOpjtxQUI"
   },
   "outputs": [],
   "source": [
    "import os\n",
    "import pandas as pd\n",
    "import numpy as np\n",
    "from sklearn.model_selection import train_test_split"
   ]
  },
  {
   "cell_type": "markdown",
   "metadata": {
    "id": "0znUsCEMySHc"
   },
   "source": [
    "## DataLoader"
   ]
  },
  {
   "cell_type": "code",
   "execution_count": 3,
   "metadata": {
    "colab": {
     "base_uri": "https://localhost:8080/"
    },
    "executionInfo": {
     "elapsed": 23656,
     "status": "ok",
     "timestamp": 1610010473342,
     "user": {
      "displayName": "Jaewon Fastcampus",
      "photoUrl": "",
      "userId": "05122666633107220130"
     },
     "user_tz": -540
    },
    "id": "2w2TnTpCyHT2",
    "outputId": "15f97b9a-8bd9-4d58-b895-c9f96729612d"
   },
   "outputs": [],
   "source": [
    "# from google.colab import drive\n",
    "# drive.mount('/content/drive')"
   ]
  },
  {
   "cell_type": "code",
   "execution_count": 3,
   "metadata": {
    "colab": {
     "base_uri": "https://localhost:8080/"
    },
    "collapsed": true,
    "executionInfo": {
     "elapsed": 1317,
     "status": "ok",
     "timestamp": 1610010481836,
     "user": {
      "displayName": "Jaewon Fastcampus",
      "photoUrl": "",
      "userId": "05122666633107220130"
     },
     "user_tz": -540
    },
    "id": "ODZm84AUyUyX",
    "jupyter": {
     "outputs_hidden": true
    },
    "outputId": "30192eea-0de9-4f2f-ae73-0be7201341a6",
    "tags": []
   },
   "outputs": [
    {
     "name": "stdout",
     "output_type": "stream",
     "text": [
      "C:\\Users\\user\\Jupyter_project\\fastcampus\\data\\kmrd\n"
     ]
    },
    {
     "name": "stderr",
     "output_type": "stream",
     "text": [
      "fatal: destination path 'kmrd' already exists and is not an empty directory.\n"
     ]
    },
    {
     "name": "stdout",
     "output_type": "stream",
     "text": [
      "running install\n",
      "running bdist_egg\n",
      "running egg_info\n",
      "writing kmr_dataset.egg-info\\PKG-INFO\n",
      "writing dependency_links to kmr_dataset.egg-info\\dependency_links.txt\n",
      "writing requirements to kmr_dataset.egg-info\\requires.txt\n",
      "writing top-level names to kmr_dataset.egg-info\\top_level.txt\n",
      "reading manifest file 'kmr_dataset.egg-info\\SOURCES.txt'\n",
      "writing manifest file 'kmr_dataset.egg-info\\SOURCES.txt'\n",
      "installing library code to build\\bdist.win-amd64\\egg\n",
      "running install_lib\n",
      "running build_py\n",
      "creating build\\bdist.win-amd64\\egg\n",
      "creating build\\bdist.win-amd64\\egg\\kmr_dataset\n",
      "creating build\\bdist.win-amd64\\egg\\kmr_dataset\\datafile\n",
      "creating build\\bdist.win-amd64\\egg\\kmr_dataset\\datafile\\kmrd\n",
      "copying build\\lib\\kmr_dataset\\datafile\\kmrd\\meta.zip -> build\\bdist.win-amd64\\egg\\kmr_dataset\\datafile\\kmrd\n",
      "copying build\\lib\\kmr_dataset\\datafile\\kmrd\\rates-2m.zip -> build\\bdist.win-amd64\\egg\\kmr_dataset\\datafile\\kmrd\n",
      "copying build\\lib\\kmr_dataset\\datafile\\kmrd\\rates-5m.zip -> build\\bdist.win-amd64\\egg\\kmr_dataset\\datafile\\kmrd\n",
      "creating build\\bdist.win-amd64\\egg\\kmr_dataset\\datafile\\kmrd-small\n",
      "copying build\\lib\\kmr_dataset\\datafile\\kmrd-small\\castings.csv -> build\\bdist.win-amd64\\egg\\kmr_dataset\\datafile\\kmrd-small\n",
      "copying build\\lib\\kmr_dataset\\datafile\\kmrd-small\\countries.csv -> build\\bdist.win-amd64\\egg\\kmr_dataset\\datafile\\kmrd-small\n",
      "copying build\\lib\\kmr_dataset\\datafile\\kmrd-small\\genres.csv -> build\\bdist.win-amd64\\egg\\kmr_dataset\\datafile\\kmrd-small\n",
      "copying build\\lib\\kmr_dataset\\datafile\\kmrd-small\\movies.txt -> build\\bdist.win-amd64\\egg\\kmr_dataset\\datafile\\kmrd-small\n",
      "copying build\\lib\\kmr_dataset\\datafile\\kmrd-small\\peoples.txt -> build\\bdist.win-amd64\\egg\\kmr_dataset\\datafile\\kmrd-small\n",
      "copying build\\lib\\kmr_dataset\\datafile\\kmrd-small\\rates.csv -> build\\bdist.win-amd64\\egg\\kmr_dataset\\datafile\\kmrd-small\n",
      "copying build\\lib\\kmr_dataset\\install.py -> build\\bdist.win-amd64\\egg\\kmr_dataset\n",
      "copying build\\lib\\kmr_dataset\\io.py -> build\\bdist.win-amd64\\egg\\kmr_dataset\n",
      "copying build\\lib\\kmr_dataset\\__init__.py -> build\\bdist.win-amd64\\egg\\kmr_dataset\n",
      "byte-compiling build\\bdist.win-amd64\\egg\\kmr_dataset\\install.py to install.cpython-37.pyc\n",
      "byte-compiling build\\bdist.win-amd64\\egg\\kmr_dataset\\io.py to io.cpython-37.pyc\n",
      "byte-compiling build\\bdist.win-amd64\\egg\\kmr_dataset\\__init__.py to __init__.cpython-37.pyc\n",
      "creating build\\bdist.win-amd64\\egg\\EGG-INFO\n",
      "copying kmr_dataset.egg-info\\PKG-INFO -> build\\bdist.win-amd64\\egg\\EGG-INFO\n",
      "copying kmr_dataset.egg-info\\SOURCES.txt -> build\\bdist.win-amd64\\egg\\EGG-INFO\n",
      "copying kmr_dataset.egg-info\\dependency_links.txt -> build\\bdist.win-amd64\\egg\\EGG-INFO\n",
      "copying kmr_dataset.egg-info\\requires.txt -> build\\bdist.win-amd64\\egg\\EGG-INFO\n",
      "copying kmr_dataset.egg-info\\top_level.txt -> build\\bdist.win-amd64\\egg\\EGG-INFO\n",
      "creating 'dist\\kmr_dataset-1.0.1-py3.7.egg' and adding 'build\\bdist.win-amd64\\egg' to it\n",
      "removing 'build\\bdist.win-amd64\\egg' (and everything under it)\n",
      "Processing kmr_dataset-1.0.1-py3.7.egg\n",
      "removing 'c:\\users\\user\\anaconda3\\envs\\py37\\lib\\site-packages\\kmr_dataset-1.0.1-py3.7.egg' (and everything under it)\n",
      "creating c:\\users\\user\\anaconda3\\envs\\py37\\lib\\site-packages\\kmr_dataset-1.0.1-py3.7.egg\n",
      "Extracting kmr_dataset-1.0.1-py3.7.egg to c:\\users\\user\\anaconda3\\envs\\py37\\lib\\site-packages\n",
      "kmr-dataset 1.0.1 is already the active version in easy-install.pth\n",
      "\n",
      "Installed c:\\users\\user\\anaconda3\\envs\\py37\\lib\\site-packages\\kmr_dataset-1.0.1-py3.7.egg\n",
      "Processing dependencies for kmr-dataset==1.0.1\n",
      "Searching for numpy==1.20.3\n",
      "Best match: numpy 1.20.3\n",
      "Adding numpy 1.20.3 to easy-install.pth file\n",
      "Installing f2py-script.py script to C:\\Users\\user\\anaconda3\\envs\\py37\\Scripts\n",
      "Installing f2py.exe script to C:\\Users\\user\\anaconda3\\envs\\py37\\Scripts\n",
      "\n",
      "Using c:\\users\\user\\anaconda3\\envs\\py37\\lib\\site-packages\n",
      "Searching for scipy==1.6.3\n",
      "Best match: scipy 1.6.3\n",
      "Adding scipy 1.6.3 to easy-install.pth file\n",
      "\n",
      "Using c:\\users\\user\\anaconda3\\envs\\py37\\lib\\site-packages\n",
      "Finished processing dependencies for kmr-dataset==1.0.1\n"
     ]
    },
    {
     "name": "stderr",
     "output_type": "stream",
     "text": [
      "zip_safe flag not set; analyzing archive contents...\n",
      "kmr_dataset.__pycache__.install.cpython-37: module references __file__\n",
      "kmr_dataset.__pycache__.io.cpython-37: module references __file__\n"
     ]
    }
   ],
   "source": [
    "data_path = \"./../data/kmrd\"\n",
    "%cd $data_path\n",
    "\n",
    "if not os.path.exists(data_path):\n",
    "  !git clone https://github.com/lovit/kmrd\n",
    "  !python setup.py install\n",
    "else:\n",
    "  print(\"data and path already exists!\")\n",
    "\n",
    "path = data_path + '/kmr_dataset/datafile/kmrd-small'"
   ]
  },
  {
   "cell_type": "code",
   "execution_count": 4,
   "metadata": {},
   "outputs": [
    {
     "data": {
      "text/plain": [
       "'C:\\\\Users\\\\user\\\\Jupyter_project\\\\fastcampus\\\\data\\\\kmrd'"
      ]
     },
     "execution_count": 4,
     "metadata": {},
     "output_type": "execute_result"
    }
   ],
   "source": [
    "os.getcwd()"
   ]
  },
  {
   "cell_type": "code",
   "execution_count": 5,
   "metadata": {},
   "outputs": [],
   "source": [
    "os.chdir('C:/Users/user/Jupyter_project/fastcampus/04-Recommender-System-with-DeepLearning')"
   ]
  },
  {
   "cell_type": "code",
   "execution_count": 6,
   "metadata": {},
   "outputs": [
    {
     "data": {
      "text/plain": [
       "'C:\\\\Users\\\\user\\\\Jupyter_project\\\\fastcampus\\\\04-Recommender-System-with-DeepLearning'"
      ]
     },
     "execution_count": 6,
     "metadata": {},
     "output_type": "execute_result"
    }
   ],
   "source": [
    "os.getcwd()"
   ]
  },
  {
   "cell_type": "code",
   "execution_count": 7,
   "metadata": {
    "executionInfo": {
     "elapsed": 4183,
     "status": "ok",
     "timestamp": 1610010517470,
     "user": {
      "displayName": "Jaewon Fastcampus",
      "photoUrl": "",
      "userId": "05122666633107220130"
     },
     "user_tz": -540
    },
    "id": "YtES3SqQyctX"
   },
   "outputs": [],
   "source": [
    "df = pd.read_csv(os.path.join(path,'rates.csv'))\n",
    "train_df, val_df = train_test_split(df, test_size=0.2, random_state=1234, shuffle=True)"
   ]
  },
  {
   "cell_type": "code",
   "execution_count": 8,
   "metadata": {
    "colab": {
     "base_uri": "https://localhost:8080/"
    },
    "executionInfo": {
     "elapsed": 1436,
     "status": "ok",
     "timestamp": 1610010526588,
     "user": {
      "displayName": "Jaewon Fastcampus",
      "photoUrl": "",
      "userId": "05122666633107220130"
     },
     "user_tz": -540
    },
    "id": "toxmUyn-GuoA",
    "outputId": "472cf9f1-93da-4940-8875-f57c335ceba9"
   },
   "outputs": [
    {
     "data": {
      "text/plain": [
       "(112568, 4)"
      ]
     },
     "execution_count": 8,
     "metadata": {},
     "output_type": "execute_result"
    }
   ],
   "source": [
    "train_df.shape"
   ]
  },
  {
   "cell_type": "code",
   "execution_count": 9,
   "metadata": {
    "executionInfo": {
     "elapsed": 1561,
     "status": "ok",
     "timestamp": 1610010534612,
     "user": {
      "displayName": "Jaewon Fastcampus",
      "photoUrl": "",
      "userId": "05122666633107220130"
     },
     "user_tz": -540
    },
    "id": "6AicokteGxOm"
   },
   "outputs": [],
   "source": [
    "train_df = train_df[:1000]"
   ]
  },
  {
   "cell_type": "code",
   "execution_count": 10,
   "metadata": {
    "colab": {
     "base_uri": "https://localhost:8080/"
    },
    "executionInfo": {
     "elapsed": 4305,
     "status": "ok",
     "timestamp": 1610010544918,
     "user": {
      "displayName": "Jaewon Fastcampus",
      "photoUrl": "",
      "userId": "05122666633107220130"
     },
     "user_tz": -540
    },
    "id": "TULw8V7vyrvF",
    "outputId": "f69d0d08-b6fb-4a11-e16b-2f117a16f4fe"
   },
   "outputs": [
    {
     "name": "stdout",
     "output_type": "stream",
     "text": [
      "(999, 7)\n",
      "                      title                           title_eng    year  \\\n",
      "movie                                                                     \n",
      "10001                시네마 천국              Cinema Paradiso , 1988  2013.0   \n",
      "10002              빽 투 더 퓨쳐           Back To The Future , 1985  2015.0   \n",
      "10003            빽 투 더 퓨쳐 2    Back To The Future Part 2 , 1989  2015.0   \n",
      "10004            빽 투 더 퓨쳐 3  Back To The Future Part III , 1990  1990.0   \n",
      "10005  스타워즈 에피소드 4 - 새로운 희망                    Star Wars , 1977  1997.0   \n",
      "\n",
      "         grade         genres  \\\n",
      "movie                           \n",
      "10001   전체 관람가     드라마/멜로/로맨스   \n",
      "10002  12세 관람가         SF/코미디   \n",
      "10003  12세 관람가         SF/코미디   \n",
      "10004   전체 관람가  서부/SF/판타지/코미디   \n",
      "10005       PG   판타지/모험/SF/액션   \n",
      "\n",
      "                                                  people   country  \n",
      "movie                                                               \n",
      "10001  [4374, 178, 3241, 47952, 47953, 19538, 18991, ...  이탈리아,프랑스  \n",
      "10002    [1076, 4603, 917, 8637, 5104, 9986, 7470, 9987]        미국  \n",
      "10003  [1076, 4603, 917, 5104, 391, 5106, 5105, 5107,...        미국  \n",
      "10004  [1076, 4603, 1031, 5104, 10001, 5984, 10002, 1...        미국  \n",
      "10005                         [1007, 535, 215, 1236, 35]        미국  \n"
     ]
    }
   ],
   "source": [
    "# Load all related dataframe\n",
    "movies_df = pd.read_csv(os.path.join(path, 'movies.txt'), sep='\\t', encoding='utf-8')\n",
    "movies_df = movies_df.set_index('movie')\n",
    "\n",
    "castings_df = pd.read_csv(os.path.join(path, 'castings.csv'), encoding='utf-8')\n",
    "countries_df = pd.read_csv(os.path.join(path, 'countries.csv'), encoding='utf-8')\n",
    "genres_df = pd.read_csv(os.path.join(path, 'genres.csv'), encoding='utf-8')\n",
    "\n",
    "# Get genre information\n",
    "genres = [(list(set(x['movie'].values))[0], '/'.join(x['genre'].values)) for index, x in genres_df.groupby('movie')]\n",
    "combined_genres_df = pd.DataFrame(data=genres, columns=['movie', 'genres'])\n",
    "combined_genres_df = combined_genres_df.set_index('movie')\n",
    "\n",
    "# Get castings information\n",
    "castings = [(list(set(x['movie'].values))[0], x['people'].values) for index, x in castings_df.groupby('movie')]\n",
    "combined_castings_df = pd.DataFrame(data=castings, columns=['movie','people'])\n",
    "combined_castings_df = combined_castings_df.set_index('movie')\n",
    "\n",
    "# Get countries for movie information\n",
    "countries = [(list(set(x['movie'].values))[0], ','.join(x['country'].values)) for index, x in countries_df.groupby('movie')]\n",
    "combined_countries_df = pd.DataFrame(data=countries, columns=['movie', 'country'])\n",
    "combined_countries_df = combined_countries_df.set_index('movie')\n",
    "\n",
    "movies_df = pd.concat([movies_df, combined_genres_df, combined_castings_df, combined_countries_df], axis=1)\n",
    "\n",
    "print(movies_df.shape)\n",
    "print(movies_df.head())"
   ]
  },
  {
   "cell_type": "code",
   "execution_count": 11,
   "metadata": {
    "colab": {
     "base_uri": "https://localhost:8080/"
    },
    "executionInfo": {
     "elapsed": 1422,
     "status": "ok",
     "timestamp": 1610010576563,
     "user": {
      "displayName": "Jaewon Fastcampus",
      "photoUrl": "",
      "userId": "05122666633107220130"
     },
     "user_tz": -540
    },
    "id": "D2ikFFTGzGIZ",
    "outputId": "5a2790c4-7fdd-4f87-d257-49ad842dc97e"
   },
   "outputs": [
    {
     "data": {
      "text/plain": [
       "Index(['title', 'title_eng', 'year', 'grade', 'genres', 'people', 'country'], dtype='object')"
      ]
     },
     "execution_count": 11,
     "metadata": {},
     "output_type": "execute_result"
    }
   ],
   "source": [
    "movies_df.columns"
   ]
  },
  {
   "cell_type": "code",
   "execution_count": 12,
   "metadata": {
    "colab": {
     "base_uri": "https://localhost:8080/",
     "height": 195
    },
    "executionInfo": {
     "elapsed": 1525,
     "status": "ok",
     "timestamp": 1610010595206,
     "user": {
      "displayName": "Jaewon Fastcampus",
      "photoUrl": "",
      "userId": "05122666633107220130"
     },
     "user_tz": -540
    },
    "id": "ZZ-qmGxO23lY",
    "outputId": "1b652268-f3e9-4572-cd61-586f394deaa5"
   },
   "outputs": [
    {
     "data": {
      "text/html": [
       "<div>\n",
       "<style scoped>\n",
       "    .dataframe tbody tr th:only-of-type {\n",
       "        vertical-align: middle;\n",
       "    }\n",
       "\n",
       "    .dataframe tbody tr th {\n",
       "        vertical-align: top;\n",
       "    }\n",
       "\n",
       "    .dataframe thead th {\n",
       "        text-align: right;\n",
       "    }\n",
       "</style>\n",
       "<table border=\"1\" class=\"dataframe\">\n",
       "  <thead>\n",
       "    <tr style=\"text-align: right;\">\n",
       "      <th></th>\n",
       "      <th>SF</th>\n",
       "      <th>가족</th>\n",
       "      <th>공포</th>\n",
       "      <th>느와르</th>\n",
       "      <th>다큐멘터리</th>\n",
       "      <th>드라마</th>\n",
       "      <th>로맨스</th>\n",
       "      <th>멜로</th>\n",
       "      <th>모험</th>\n",
       "      <th>뮤지컬</th>\n",
       "      <th>...</th>\n",
       "      <th>범죄</th>\n",
       "      <th>서부</th>\n",
       "      <th>서사</th>\n",
       "      <th>스릴러</th>\n",
       "      <th>애니메이션</th>\n",
       "      <th>액션</th>\n",
       "      <th>에로</th>\n",
       "      <th>전쟁</th>\n",
       "      <th>코미디</th>\n",
       "      <th>판타지</th>\n",
       "    </tr>\n",
       "  </thead>\n",
       "  <tbody>\n",
       "    <tr>\n",
       "      <th>137023</th>\n",
       "      <td>0</td>\n",
       "      <td>0</td>\n",
       "      <td>0</td>\n",
       "      <td>0</td>\n",
       "      <td>0</td>\n",
       "      <td>1</td>\n",
       "      <td>1</td>\n",
       "      <td>1</td>\n",
       "      <td>0</td>\n",
       "      <td>0</td>\n",
       "      <td>...</td>\n",
       "      <td>0</td>\n",
       "      <td>0</td>\n",
       "      <td>0</td>\n",
       "      <td>0</td>\n",
       "      <td>0</td>\n",
       "      <td>0</td>\n",
       "      <td>0</td>\n",
       "      <td>0</td>\n",
       "      <td>0</td>\n",
       "      <td>0</td>\n",
       "    </tr>\n",
       "    <tr>\n",
       "      <th>92868</th>\n",
       "      <td>0</td>\n",
       "      <td>0</td>\n",
       "      <td>0</td>\n",
       "      <td>0</td>\n",
       "      <td>0</td>\n",
       "      <td>0</td>\n",
       "      <td>0</td>\n",
       "      <td>0</td>\n",
       "      <td>0</td>\n",
       "      <td>0</td>\n",
       "      <td>...</td>\n",
       "      <td>0</td>\n",
       "      <td>0</td>\n",
       "      <td>0</td>\n",
       "      <td>0</td>\n",
       "      <td>0</td>\n",
       "      <td>1</td>\n",
       "      <td>0</td>\n",
       "      <td>0</td>\n",
       "      <td>0</td>\n",
       "      <td>0</td>\n",
       "    </tr>\n",
       "    <tr>\n",
       "      <th>94390</th>\n",
       "      <td>0</td>\n",
       "      <td>0</td>\n",
       "      <td>0</td>\n",
       "      <td>0</td>\n",
       "      <td>0</td>\n",
       "      <td>1</td>\n",
       "      <td>0</td>\n",
       "      <td>0</td>\n",
       "      <td>0</td>\n",
       "      <td>0</td>\n",
       "      <td>...</td>\n",
       "      <td>0</td>\n",
       "      <td>0</td>\n",
       "      <td>0</td>\n",
       "      <td>0</td>\n",
       "      <td>0</td>\n",
       "      <td>0</td>\n",
       "      <td>0</td>\n",
       "      <td>0</td>\n",
       "      <td>0</td>\n",
       "      <td>0</td>\n",
       "    </tr>\n",
       "    <tr>\n",
       "      <th>22289</th>\n",
       "      <td>0</td>\n",
       "      <td>0</td>\n",
       "      <td>0</td>\n",
       "      <td>0</td>\n",
       "      <td>0</td>\n",
       "      <td>1</td>\n",
       "      <td>1</td>\n",
       "      <td>1</td>\n",
       "      <td>0</td>\n",
       "      <td>0</td>\n",
       "      <td>...</td>\n",
       "      <td>0</td>\n",
       "      <td>0</td>\n",
       "      <td>0</td>\n",
       "      <td>0</td>\n",
       "      <td>0</td>\n",
       "      <td>0</td>\n",
       "      <td>0</td>\n",
       "      <td>0</td>\n",
       "      <td>0</td>\n",
       "      <td>0</td>\n",
       "    </tr>\n",
       "    <tr>\n",
       "      <th>80155</th>\n",
       "      <td>0</td>\n",
       "      <td>0</td>\n",
       "      <td>0</td>\n",
       "      <td>0</td>\n",
       "      <td>0</td>\n",
       "      <td>1</td>\n",
       "      <td>0</td>\n",
       "      <td>0</td>\n",
       "      <td>0</td>\n",
       "      <td>0</td>\n",
       "      <td>...</td>\n",
       "      <td>0</td>\n",
       "      <td>0</td>\n",
       "      <td>0</td>\n",
       "      <td>0</td>\n",
       "      <td>0</td>\n",
       "      <td>1</td>\n",
       "      <td>0</td>\n",
       "      <td>0</td>\n",
       "      <td>0</td>\n",
       "      <td>0</td>\n",
       "    </tr>\n",
       "  </tbody>\n",
       "</table>\n",
       "<p>5 rows × 21 columns</p>\n",
       "</div>"
      ],
      "text/plain": [
       "        SF  가족  공포  느와르  다큐멘터리  드라마  로맨스  멜로  모험  뮤지컬  ...  범죄  서부  서사  스릴러  \\\n",
       "137023   0   0   0    0      0    1    1   1   0    0  ...   0   0   0    0   \n",
       "92868    0   0   0    0      0    0    0   0   0    0  ...   0   0   0    0   \n",
       "94390    0   0   0    0      0    1    0   0   0    0  ...   0   0   0    0   \n",
       "22289    0   0   0    0      0    1    1   1   0    0  ...   0   0   0    0   \n",
       "80155    0   0   0    0      0    1    0   0   0    0  ...   0   0   0    0   \n",
       "\n",
       "        애니메이션  액션  에로  전쟁  코미디  판타지  \n",
       "137023      0   0   0   0    0    0  \n",
       "92868       0   1   0   0    0    0  \n",
       "94390       0   0   0   0    0    0  \n",
       "22289       0   0   0   0    0    0  \n",
       "80155       0   1   0   0    0    0  \n",
       "\n",
       "[5 rows x 21 columns]"
      ]
     },
     "execution_count": 12,
     "metadata": {},
     "output_type": "execute_result"
    }
   ],
   "source": [
    "dummy_genres_df = movies_df['genres'].str.get_dummies(sep='/')\n",
    "train_genres_df = train_df['movie'].apply(lambda x: dummy_genres_df.loc[x])\n",
    "train_genres_df.head()"
   ]
  },
  {
   "cell_type": "code",
   "execution_count": 13,
   "metadata": {
    "colab": {
     "base_uri": "https://localhost:8080/",
     "height": 195
    },
    "executionInfo": {
     "elapsed": 1194,
     "status": "ok",
     "timestamp": 1610010613801,
     "user": {
      "displayName": "Jaewon Fastcampus",
      "photoUrl": "",
      "userId": "05122666633107220130"
     },
     "user_tz": -540
    },
    "id": "HsU17KLB3Q3q",
    "outputId": "21408f0d-43a0-464c-b62d-2f9bc0097c4a"
   },
   "outputs": [
    {
     "data": {
      "text/html": [
       "<div>\n",
       "<style scoped>\n",
       "    .dataframe tbody tr th:only-of-type {\n",
       "        vertical-align: middle;\n",
       "    }\n",
       "\n",
       "    .dataframe tbody tr th {\n",
       "        vertical-align: top;\n",
       "    }\n",
       "\n",
       "    .dataframe thead th {\n",
       "        text-align: right;\n",
       "    }\n",
       "</style>\n",
       "<table border=\"1\" class=\"dataframe\">\n",
       "  <thead>\n",
       "    <tr style=\"text-align: right;\">\n",
       "      <th></th>\n",
       "      <th>grade_12세 관람가</th>\n",
       "      <th>grade_15세 관람가</th>\n",
       "      <th>grade_G</th>\n",
       "      <th>grade_NR</th>\n",
       "      <th>grade_PG</th>\n",
       "      <th>grade_PG-13</th>\n",
       "      <th>grade_R</th>\n",
       "      <th>grade_전체 관람가</th>\n",
       "      <th>grade_청소년 관람불가</th>\n",
       "    </tr>\n",
       "  </thead>\n",
       "  <tbody>\n",
       "    <tr>\n",
       "      <th>137023</th>\n",
       "      <td>1</td>\n",
       "      <td>0</td>\n",
       "      <td>0</td>\n",
       "      <td>0</td>\n",
       "      <td>0</td>\n",
       "      <td>0</td>\n",
       "      <td>0</td>\n",
       "      <td>0</td>\n",
       "      <td>0</td>\n",
       "    </tr>\n",
       "    <tr>\n",
       "      <th>92868</th>\n",
       "      <td>0</td>\n",
       "      <td>0</td>\n",
       "      <td>0</td>\n",
       "      <td>0</td>\n",
       "      <td>1</td>\n",
       "      <td>0</td>\n",
       "      <td>0</td>\n",
       "      <td>0</td>\n",
       "      <td>0</td>\n",
       "    </tr>\n",
       "    <tr>\n",
       "      <th>94390</th>\n",
       "      <td>1</td>\n",
       "      <td>0</td>\n",
       "      <td>0</td>\n",
       "      <td>0</td>\n",
       "      <td>0</td>\n",
       "      <td>0</td>\n",
       "      <td>0</td>\n",
       "      <td>0</td>\n",
       "      <td>0</td>\n",
       "    </tr>\n",
       "    <tr>\n",
       "      <th>22289</th>\n",
       "      <td>0</td>\n",
       "      <td>0</td>\n",
       "      <td>0</td>\n",
       "      <td>0</td>\n",
       "      <td>0</td>\n",
       "      <td>0</td>\n",
       "      <td>0</td>\n",
       "      <td>1</td>\n",
       "      <td>0</td>\n",
       "    </tr>\n",
       "    <tr>\n",
       "      <th>80155</th>\n",
       "      <td>1</td>\n",
       "      <td>0</td>\n",
       "      <td>0</td>\n",
       "      <td>0</td>\n",
       "      <td>0</td>\n",
       "      <td>0</td>\n",
       "      <td>0</td>\n",
       "      <td>0</td>\n",
       "      <td>0</td>\n",
       "    </tr>\n",
       "  </tbody>\n",
       "</table>\n",
       "</div>"
      ],
      "text/plain": [
       "        grade_12세 관람가  grade_15세 관람가  grade_G  grade_NR  grade_PG  \\\n",
       "137023              1              0        0         0         0   \n",
       "92868               0              0        0         0         1   \n",
       "94390               1              0        0         0         0   \n",
       "22289               0              0        0         0         0   \n",
       "80155               1              0        0         0         0   \n",
       "\n",
       "        grade_PG-13  grade_R  grade_전체 관람가  grade_청소년 관람불가  \n",
       "137023            0        0             0               0  \n",
       "92868             0        0             0               0  \n",
       "94390             0        0             0               0  \n",
       "22289             0        0             1               0  \n",
       "80155             0        0             0               0  "
      ]
     },
     "execution_count": 13,
     "metadata": {},
     "output_type": "execute_result"
    }
   ],
   "source": [
    "dummy_grade_df = pd.get_dummies(movies_df['grade'], prefix='grade')\n",
    "train_grade_df = train_df['movie'].apply(lambda x: dummy_grade_df.loc[x])\n",
    "train_grade_df.head()"
   ]
  },
  {
   "cell_type": "code",
   "execution_count": 14,
   "metadata": {},
   "outputs": [
    {
     "data": {
      "text/html": [
       "<div>\n",
       "<style scoped>\n",
       "    .dataframe tbody tr th:only-of-type {\n",
       "        vertical-align: middle;\n",
       "    }\n",
       "\n",
       "    .dataframe tbody tr th {\n",
       "        vertical-align: top;\n",
       "    }\n",
       "\n",
       "    .dataframe thead th {\n",
       "        text-align: right;\n",
       "    }\n",
       "</style>\n",
       "<table border=\"1\" class=\"dataframe\">\n",
       "  <thead>\n",
       "    <tr style=\"text-align: right;\">\n",
       "      <th></th>\n",
       "      <th>user</th>\n",
       "      <th>movie</th>\n",
       "      <th>rate</th>\n",
       "      <th>time</th>\n",
       "    </tr>\n",
       "  </thead>\n",
       "  <tbody>\n",
       "    <tr>\n",
       "      <th>137023</th>\n",
       "      <td>48423</td>\n",
       "      <td>10764</td>\n",
       "      <td>10</td>\n",
       "      <td>1212241560</td>\n",
       "    </tr>\n",
       "    <tr>\n",
       "      <th>92868</th>\n",
       "      <td>17307</td>\n",
       "      <td>10170</td>\n",
       "      <td>10</td>\n",
       "      <td>1122185220</td>\n",
       "    </tr>\n",
       "    <tr>\n",
       "      <th>94390</th>\n",
       "      <td>18180</td>\n",
       "      <td>10048</td>\n",
       "      <td>10</td>\n",
       "      <td>1573403460</td>\n",
       "    </tr>\n",
       "    <tr>\n",
       "      <th>22289</th>\n",
       "      <td>1498</td>\n",
       "      <td>10001</td>\n",
       "      <td>9</td>\n",
       "      <td>1432684500</td>\n",
       "    </tr>\n",
       "    <tr>\n",
       "      <th>80155</th>\n",
       "      <td>12541</td>\n",
       "      <td>10022</td>\n",
       "      <td>10</td>\n",
       "      <td>1370458140</td>\n",
       "    </tr>\n",
       "  </tbody>\n",
       "</table>\n",
       "</div>"
      ],
      "text/plain": [
       "         user  movie  rate        time\n",
       "137023  48423  10764    10  1212241560\n",
       "92868   17307  10170    10  1122185220\n",
       "94390   18180  10048    10  1573403460\n",
       "22289    1498  10001     9  1432684500\n",
       "80155   12541  10022    10  1370458140"
      ]
     },
     "execution_count": 14,
     "metadata": {},
     "output_type": "execute_result"
    }
   ],
   "source": [
    "train_df.head()"
   ]
  },
  {
   "cell_type": "code",
   "execution_count": 15,
   "metadata": {
    "executionInfo": {
     "elapsed": 950,
     "status": "ok",
     "timestamp": 1610010623773,
     "user": {
      "displayName": "Jaewon Fastcampus",
      "photoUrl": "",
      "userId": "05122666633107220130"
     },
     "user_tz": -540
    },
    "id": "r0qngT_Nz-j9"
   },
   "outputs": [],
   "source": [
    "train_df['year'] = train_df.apply(lambda x: movies_df.loc[x['movie']]['year'], axis=1)"
   ]
  },
  {
   "cell_type": "code",
   "execution_count": 16,
   "metadata": {},
   "outputs": [
    {
     "data": {
      "text/html": [
       "<div>\n",
       "<style scoped>\n",
       "    .dataframe tbody tr th:only-of-type {\n",
       "        vertical-align: middle;\n",
       "    }\n",
       "\n",
       "    .dataframe tbody tr th {\n",
       "        vertical-align: top;\n",
       "    }\n",
       "\n",
       "    .dataframe thead th {\n",
       "        text-align: right;\n",
       "    }\n",
       "</style>\n",
       "<table border=\"1\" class=\"dataframe\">\n",
       "  <thead>\n",
       "    <tr style=\"text-align: right;\">\n",
       "      <th></th>\n",
       "      <th>user</th>\n",
       "      <th>movie</th>\n",
       "      <th>rate</th>\n",
       "      <th>time</th>\n",
       "      <th>year</th>\n",
       "    </tr>\n",
       "  </thead>\n",
       "  <tbody>\n",
       "    <tr>\n",
       "      <th>137023</th>\n",
       "      <td>48423</td>\n",
       "      <td>10764</td>\n",
       "      <td>10</td>\n",
       "      <td>1212241560</td>\n",
       "      <td>1987.0</td>\n",
       "    </tr>\n",
       "    <tr>\n",
       "      <th>92868</th>\n",
       "      <td>17307</td>\n",
       "      <td>10170</td>\n",
       "      <td>10</td>\n",
       "      <td>1122185220</td>\n",
       "      <td>1985.0</td>\n",
       "    </tr>\n",
       "    <tr>\n",
       "      <th>94390</th>\n",
       "      <td>18180</td>\n",
       "      <td>10048</td>\n",
       "      <td>10</td>\n",
       "      <td>1573403460</td>\n",
       "      <td>2016.0</td>\n",
       "    </tr>\n",
       "    <tr>\n",
       "      <th>22289</th>\n",
       "      <td>1498</td>\n",
       "      <td>10001</td>\n",
       "      <td>9</td>\n",
       "      <td>1432684500</td>\n",
       "      <td>2013.0</td>\n",
       "    </tr>\n",
       "    <tr>\n",
       "      <th>80155</th>\n",
       "      <td>12541</td>\n",
       "      <td>10022</td>\n",
       "      <td>10</td>\n",
       "      <td>1370458140</td>\n",
       "      <td>1980.0</td>\n",
       "    </tr>\n",
       "  </tbody>\n",
       "</table>\n",
       "</div>"
      ],
      "text/plain": [
       "         user  movie  rate        time    year\n",
       "137023  48423  10764    10  1212241560  1987.0\n",
       "92868   17307  10170    10  1122185220  1985.0\n",
       "94390   18180  10048    10  1573403460  2016.0\n",
       "22289    1498  10001     9  1432684500  2013.0\n",
       "80155   12541  10022    10  1370458140  1980.0"
      ]
     },
     "execution_count": 16,
     "metadata": {},
     "output_type": "execute_result"
    }
   ],
   "source": [
    "train_df.head()"
   ]
  },
  {
   "cell_type": "code",
   "execution_count": 17,
   "metadata": {
    "colab": {
     "base_uri": "https://localhost:8080/",
     "height": 282
    },
    "executionInfo": {
     "elapsed": 1272,
     "status": "ok",
     "timestamp": 1610010651820,
     "user": {
      "displayName": "Jaewon Fastcampus",
      "photoUrl": "",
      "userId": "05122666633107220130"
     },
     "user_tz": -540
    },
    "id": "aDxgu9Ij4EKL",
    "outputId": "1c938fb1-8005-41c0-9cd8-6e153f47924d"
   },
   "outputs": [
    {
     "data": {
      "text/html": [
       "<div>\n",
       "<style scoped>\n",
       "    .dataframe tbody tr th:only-of-type {\n",
       "        vertical-align: middle;\n",
       "    }\n",
       "\n",
       "    .dataframe tbody tr th {\n",
       "        vertical-align: top;\n",
       "    }\n",
       "\n",
       "    .dataframe thead th {\n",
       "        text-align: right;\n",
       "    }\n",
       "</style>\n",
       "<table border=\"1\" class=\"dataframe\">\n",
       "  <thead>\n",
       "    <tr style=\"text-align: right;\">\n",
       "      <th></th>\n",
       "      <th>user</th>\n",
       "      <th>movie</th>\n",
       "      <th>rate</th>\n",
       "      <th>time</th>\n",
       "      <th>year</th>\n",
       "      <th>grade_12세 관람가</th>\n",
       "      <th>grade_15세 관람가</th>\n",
       "      <th>grade_G</th>\n",
       "      <th>grade_NR</th>\n",
       "      <th>grade_PG</th>\n",
       "      <th>...</th>\n",
       "      <th>범죄</th>\n",
       "      <th>서부</th>\n",
       "      <th>서사</th>\n",
       "      <th>스릴러</th>\n",
       "      <th>애니메이션</th>\n",
       "      <th>액션</th>\n",
       "      <th>에로</th>\n",
       "      <th>전쟁</th>\n",
       "      <th>코미디</th>\n",
       "      <th>판타지</th>\n",
       "    </tr>\n",
       "  </thead>\n",
       "  <tbody>\n",
       "    <tr>\n",
       "      <th>137023</th>\n",
       "      <td>48423</td>\n",
       "      <td>10764</td>\n",
       "      <td>10</td>\n",
       "      <td>1212241560</td>\n",
       "      <td>1987.0</td>\n",
       "      <td>1</td>\n",
       "      <td>0</td>\n",
       "      <td>0</td>\n",
       "      <td>0</td>\n",
       "      <td>0</td>\n",
       "      <td>...</td>\n",
       "      <td>0</td>\n",
       "      <td>0</td>\n",
       "      <td>0</td>\n",
       "      <td>0</td>\n",
       "      <td>0</td>\n",
       "      <td>0</td>\n",
       "      <td>0</td>\n",
       "      <td>0</td>\n",
       "      <td>0</td>\n",
       "      <td>0</td>\n",
       "    </tr>\n",
       "    <tr>\n",
       "      <th>92868</th>\n",
       "      <td>17307</td>\n",
       "      <td>10170</td>\n",
       "      <td>10</td>\n",
       "      <td>1122185220</td>\n",
       "      <td>1985.0</td>\n",
       "      <td>0</td>\n",
       "      <td>0</td>\n",
       "      <td>0</td>\n",
       "      <td>0</td>\n",
       "      <td>1</td>\n",
       "      <td>...</td>\n",
       "      <td>0</td>\n",
       "      <td>0</td>\n",
       "      <td>0</td>\n",
       "      <td>0</td>\n",
       "      <td>0</td>\n",
       "      <td>1</td>\n",
       "      <td>0</td>\n",
       "      <td>0</td>\n",
       "      <td>0</td>\n",
       "      <td>0</td>\n",
       "    </tr>\n",
       "    <tr>\n",
       "      <th>94390</th>\n",
       "      <td>18180</td>\n",
       "      <td>10048</td>\n",
       "      <td>10</td>\n",
       "      <td>1573403460</td>\n",
       "      <td>2016.0</td>\n",
       "      <td>1</td>\n",
       "      <td>0</td>\n",
       "      <td>0</td>\n",
       "      <td>0</td>\n",
       "      <td>0</td>\n",
       "      <td>...</td>\n",
       "      <td>0</td>\n",
       "      <td>0</td>\n",
       "      <td>0</td>\n",
       "      <td>0</td>\n",
       "      <td>0</td>\n",
       "      <td>0</td>\n",
       "      <td>0</td>\n",
       "      <td>0</td>\n",
       "      <td>0</td>\n",
       "      <td>0</td>\n",
       "    </tr>\n",
       "    <tr>\n",
       "      <th>22289</th>\n",
       "      <td>1498</td>\n",
       "      <td>10001</td>\n",
       "      <td>9</td>\n",
       "      <td>1432684500</td>\n",
       "      <td>2013.0</td>\n",
       "      <td>0</td>\n",
       "      <td>0</td>\n",
       "      <td>0</td>\n",
       "      <td>0</td>\n",
       "      <td>0</td>\n",
       "      <td>...</td>\n",
       "      <td>0</td>\n",
       "      <td>0</td>\n",
       "      <td>0</td>\n",
       "      <td>0</td>\n",
       "      <td>0</td>\n",
       "      <td>0</td>\n",
       "      <td>0</td>\n",
       "      <td>0</td>\n",
       "      <td>0</td>\n",
       "      <td>0</td>\n",
       "    </tr>\n",
       "    <tr>\n",
       "      <th>80155</th>\n",
       "      <td>12541</td>\n",
       "      <td>10022</td>\n",
       "      <td>10</td>\n",
       "      <td>1370458140</td>\n",
       "      <td>1980.0</td>\n",
       "      <td>1</td>\n",
       "      <td>0</td>\n",
       "      <td>0</td>\n",
       "      <td>0</td>\n",
       "      <td>0</td>\n",
       "      <td>...</td>\n",
       "      <td>0</td>\n",
       "      <td>0</td>\n",
       "      <td>0</td>\n",
       "      <td>0</td>\n",
       "      <td>0</td>\n",
       "      <td>1</td>\n",
       "      <td>0</td>\n",
       "      <td>0</td>\n",
       "      <td>0</td>\n",
       "      <td>0</td>\n",
       "    </tr>\n",
       "  </tbody>\n",
       "</table>\n",
       "<p>5 rows × 35 columns</p>\n",
       "</div>"
      ],
      "text/plain": [
       "         user  movie  rate        time    year  grade_12세 관람가  grade_15세 관람가  \\\n",
       "137023  48423  10764    10  1212241560  1987.0              1              0   \n",
       "92868   17307  10170    10  1122185220  1985.0              0              0   \n",
       "94390   18180  10048    10  1573403460  2016.0              1              0   \n",
       "22289    1498  10001     9  1432684500  2013.0              0              0   \n",
       "80155   12541  10022    10  1370458140  1980.0              1              0   \n",
       "\n",
       "        grade_G  grade_NR  grade_PG  ...  범죄  서부  서사  스릴러  애니메이션  액션  에로  전쟁  \\\n",
       "137023        0         0         0  ...   0   0   0    0      0   0   0   0   \n",
       "92868         0         0         1  ...   0   0   0    0      0   1   0   0   \n",
       "94390         0         0         0  ...   0   0   0    0      0   0   0   0   \n",
       "22289         0         0         0  ...   0   0   0    0      0   0   0   0   \n",
       "80155         0         0         0  ...   0   0   0    0      0   1   0   0   \n",
       "\n",
       "        코미디  판타지  \n",
       "137023    0    0  \n",
       "92868     0    0  \n",
       "94390     0    0  \n",
       "22289     0    0  \n",
       "80155     0    0  \n",
       "\n",
       "[5 rows x 35 columns]"
      ]
     },
     "execution_count": 17,
     "metadata": {},
     "output_type": "execute_result"
    }
   ],
   "source": [
    "train_df = pd.concat([train_df, train_grade_df, train_genres_df], axis=1)\n",
    "train_df.head()"
   ]
  },
  {
   "cell_type": "code",
   "execution_count": 18,
   "metadata": {
    "colab": {
     "base_uri": "https://localhost:8080/"
    },
    "executionInfo": {
     "elapsed": 1368,
     "status": "ok",
     "timestamp": 1610010700891,
     "user": {
      "displayName": "Jaewon Fastcampus",
      "photoUrl": "",
      "userId": "05122666633107220130"
     },
     "user_tz": -540
    },
    "id": "LVhr1q-t4dT3",
    "outputId": "34e40e6b-80ac-4b29-d1e2-4ae2673d292d"
   },
   "outputs": [
    {
     "data": {
      "text/plain": [
       "['SF',\n",
       " '가족',\n",
       " '공포',\n",
       " '느와르',\n",
       " '다큐멘터리',\n",
       " '드라마',\n",
       " '로맨스',\n",
       " '멜로',\n",
       " '모험',\n",
       " '뮤지컬',\n",
       " '미스터리',\n",
       " '범죄',\n",
       " '서부',\n",
       " '서사',\n",
       " '스릴러',\n",
       " '애니메이션',\n",
       " '액션',\n",
       " '에로',\n",
       " '전쟁',\n",
       " '코미디',\n",
       " '판타지',\n",
       " 'grade_12세 관람가',\n",
       " 'grade_15세 관람가',\n",
       " 'grade_G',\n",
       " 'grade_NR',\n",
       " 'grade_PG',\n",
       " 'grade_PG-13',\n",
       " 'grade_R',\n",
       " 'grade_전체 관람가',\n",
       " 'grade_청소년 관람불가']"
      ]
     },
     "execution_count": 18,
     "metadata": {},
     "output_type": "execute_result"
    }
   ],
   "source": [
    "wide_cols = list(dummy_genres_df.columns) + list(dummy_grade_df.columns)\n",
    "wide_cols"
   ]
  },
  {
   "cell_type": "code",
   "execution_count": 19,
   "metadata": {
    "colab": {
     "base_uri": "https://localhost:8080/"
    },
    "executionInfo": {
     "elapsed": 1156,
     "status": "ok",
     "timestamp": 1610010734169,
     "user": {
      "displayName": "Jaewon Fastcampus",
      "photoUrl": "",
      "userId": "05122666633107220130"
     },
     "user_tz": -540
    },
    "id": "Q7RbNVlz6JI7",
    "outputId": "25af8166-fab5-45d1-eca7-bd517cd9fd68"
   },
   "outputs": [
    {
     "name": "stdout",
     "output_type": "stream",
     "text": [
      "30\n",
      "['SF', '가족', '공포', '느와르', '다큐멘터리', '드라마', '로맨스', '멜로', '모험', '뮤지컬', '미스터리', '범죄', '서부', '서사', '스릴러', '애니메이션', '액션', '에로', '전쟁', '코미디', '판타지', 'grade_12세 관람가', 'grade_15세 관람가', 'grade_G', 'grade_NR', 'grade_PG', 'grade_PG-13', 'grade_R', 'grade_전체 관람가', 'grade_청소년 관람불가']\n"
     ]
    }
   ],
   "source": [
    "print(len(wide_cols))\n",
    "print(wide_cols)\n",
    "\n",
    "wide_cols = wide_cols[:3]"
   ]
  },
  {
   "cell_type": "code",
   "execution_count": 20,
   "metadata": {
    "colab": {
     "base_uri": "https://localhost:8080/"
    },
    "executionInfo": {
     "elapsed": 2048,
     "status": "ok",
     "timestamp": 1610010751156,
     "user": {
      "displayName": "Jaewon Fastcampus",
      "photoUrl": "",
      "userId": "05122666633107220130"
     },
     "user_tz": -540
    },
    "id": "3w5_Lt8p72vS",
    "outputId": "896e60aa-6854-4783-a88c-73b0ea0c033e"
   },
   "outputs": [
    {
     "data": {
      "text/plain": [
       "['SF', '가족', '공포']"
      ]
     },
     "execution_count": 20,
     "metadata": {},
     "output_type": "execute_result"
    }
   ],
   "source": [
    "# wide_cols = ['genre', 'grade']\n",
    "# cross_cols = [('genre', 'grade')]\n",
    "wide_cols"
   ]
  },
  {
   "cell_type": "code",
   "execution_count": 21,
   "metadata": {
    "colab": {
     "base_uri": "https://localhost:8080/"
    },
    "executionInfo": {
     "elapsed": 1312,
     "status": "ok",
     "timestamp": 1610010760277,
     "user": {
      "displayName": "Jaewon Fastcampus",
      "photoUrl": "",
      "userId": "05122666633107220130"
     },
     "user_tz": -540
    },
    "id": "z-HbaKgU6fJu",
    "outputId": "6aef1608-5acb-4f4e-e31c-82667fc36760"
   },
   "outputs": [
    {
     "name": "stdout",
     "output_type": "stream",
     "text": [
      "[[('SF', 'SF'), ('가족', 'SF'), ('공포', 'SF')], [('SF', 'SF'), ('가족', 'SF'), ('공포', '가족')], [('SF', 'SF'), ('가족', 'SF'), ('공포', '공포')], [('SF', 'SF'), ('가족', '가족'), ('공포', 'SF')], [('SF', 'SF'), ('가족', '가족'), ('공포', '가족')], [('SF', 'SF'), ('가족', '가족'), ('공포', '공포')], [('SF', 'SF'), ('가족', '공포'), ('공포', 'SF')], [('SF', 'SF'), ('가족', '공포'), ('공포', '가족')], [('SF', 'SF'), ('가족', '공포'), ('공포', '공포')], [('SF', '가족'), ('가족', 'SF'), ('공포', 'SF')], [('SF', '가족'), ('가족', 'SF'), ('공포', '가족')], [('SF', '가족'), ('가족', 'SF'), ('공포', '공포')], [('SF', '가족'), ('가족', '가족'), ('공포', 'SF')], [('SF', '가족'), ('가족', '가족'), ('공포', '가족')], [('SF', '가족'), ('가족', '가족'), ('공포', '공포')], [('SF', '가족'), ('가족', '공포'), ('공포', 'SF')], [('SF', '가족'), ('가족', '공포'), ('공포', '가족')], [('SF', '가족'), ('가족', '공포'), ('공포', '공포')], [('SF', '공포'), ('가족', 'SF'), ('공포', 'SF')], [('SF', '공포'), ('가족', 'SF'), ('공포', '가족')], [('SF', '공포'), ('가족', 'SF'), ('공포', '공포')], [('SF', '공포'), ('가족', '가족'), ('공포', 'SF')], [('SF', '공포'), ('가족', '가족'), ('공포', '가족')], [('SF', '공포'), ('가족', '가족'), ('공포', '공포')], [('SF', '공포'), ('가족', '공포'), ('공포', 'SF')], [('SF', '공포'), ('가족', '공포'), ('공포', '가족')], [('SF', '공포'), ('가족', '공포'), ('공포', '공포')]]\n",
      "\n",
      "[('가족', '공포'), ('공포', '가족'), ('SF', '가족'), ('SF', '공포'), ('가족', 'SF'), ('공포', 'SF')]\n"
     ]
    }
   ],
   "source": [
    "import itertools\n",
    "from itertools import product  \n",
    "unique_combinations = list(list(zip(wide_cols, element)) \n",
    "                           for element in product(wide_cols, repeat = len(wide_cols))) \n",
    "\n",
    "print(unique_combinations)\n",
    "cross_cols = [item for sublist in unique_combinations for item in sublist]\n",
    "cross_cols = [x for x in cross_cols if x[0] != x[1]]\n",
    "cross_cols = list(set(cross_cols))\n",
    "\n",
    "print()\n",
    "print(cross_cols)"
   ]
  },
  {
   "cell_type": "code",
   "execution_count": 22,
   "metadata": {
    "colab": {
     "base_uri": "https://localhost:8080/"
    },
    "executionInfo": {
     "elapsed": 1370,
     "status": "ok",
     "timestamp": 1610010841480,
     "user": {
      "displayName": "Jaewon Fastcampus",
      "photoUrl": "",
      "userId": "05122666633107220130"
     },
     "user_tz": -540
    },
    "id": "os2XPky1zyrG",
    "outputId": "c4961a14-2a80-41ca-d75b-8e72d6958095"
   },
   "outputs": [
    {
     "name": "stdout",
     "output_type": "stream",
     "text": [
      "[('가족', 16), ('공포', 16), ('SF', 16)]\n",
      "['year']\n"
     ]
    }
   ],
   "source": [
    "# embed_cols = [('genre', 16),('grade', 16)]\n",
    "embed_cols = list(set([(x[0], 16) for x in cross_cols]))\n",
    "continuous_cols = ['year']\n",
    "\n",
    "print(embed_cols)\n",
    "print(continuous_cols)"
   ]
  },
  {
   "cell_type": "code",
   "execution_count": 23,
   "metadata": {
    "executionInfo": {
     "elapsed": 1498,
     "status": "ok",
     "timestamp": 1610010871697,
     "user": {
      "displayName": "Jaewon Fastcampus",
      "photoUrl": "",
      "userId": "05122666633107220130"
     },
     "user_tz": -540
    },
    "id": "T7uvvmjS0Fv-"
   },
   "outputs": [],
   "source": [
    "target = train_df['rate'].apply(lambda x: 1 if x > 9 else 0).values"
   ]
  },
  {
   "cell_type": "markdown",
   "metadata": {
    "id": "C9yiNgiN0oUy"
   },
   "source": [
    "## Wide & Deep(21.07.04 버전 라이브러리 변경)"
   ]
  },
  {
   "cell_type": "code",
   "execution_count": 27,
   "metadata": {
    "executionInfo": {
     "elapsed": 8650,
     "status": "ok",
     "timestamp": 1610010920649,
     "user": {
      "displayName": "Jaewon Fastcampus",
      "photoUrl": "",
      "userId": "05122666633107220130"
     },
     "user_tz": -540
    },
    "id": "tGogfgZ40Uq4"
   },
   "outputs": [],
   "source": [
    "from pytorch_widedeep.preprocessing import WidePreprocessor\n",
    "from pytorch_widedeep.models import Wide, WideDeep\n",
    "from pytorch_widedeep.metrics import Accuracy"
   ]
  },
  {
   "cell_type": "code",
   "execution_count": 35,
   "metadata": {},
   "outputs": [],
   "source": [
    "from pytorch_widedeep.preprocessing import TabPreprocessor"
   ]
  },
  {
   "cell_type": "code",
   "execution_count": 36,
   "metadata": {},
   "outputs": [],
   "source": [
    "from pytorch_widedeep.models import TabMlp"
   ]
  },
  {
   "cell_type": "code",
   "execution_count": 55,
   "metadata": {},
   "outputs": [],
   "source": [
    "from pytorch_widedeep import Trainer"
   ]
  },
  {
   "cell_type": "markdown",
   "metadata": {
    "id": "MpKbAf0n0nIZ"
   },
   "source": [
    "### Wide Component"
   ]
  },
  {
   "cell_type": "code",
   "execution_count": 37,
   "metadata": {
    "executionInfo": {
     "elapsed": 1292,
     "status": "ok",
     "timestamp": 1610010954652,
     "user": {
      "displayName": "Jaewon Fastcampus",
      "photoUrl": "",
      "userId": "05122666633107220130"
     },
     "user_tz": -540
    },
    "id": "8rkppnwh0Xwl"
   },
   "outputs": [],
   "source": [
    "preprocess_wide = WidePreprocessor(wide_cols=wide_cols, crossed_cols=cross_cols)\n",
    "X_wide = preprocess_wide.fit_transform(train_df)\n",
    "wide = Wide(wide_dim=np.unique(X_wide).shape[0], pred_dim=1)"
   ]
  },
  {
   "cell_type": "code",
   "execution_count": 38,
   "metadata": {
    "colab": {
     "base_uri": "https://localhost:8080/"
    },
    "executionInfo": {
     "elapsed": 1322,
     "status": "ok",
     "timestamp": 1610010998151,
     "user": {
      "displayName": "Jaewon Fastcampus",
      "photoUrl": "",
      "userId": "05122666633107220130"
     },
     "user_tz": -540
    },
    "id": "GSVqZrynIf2K",
    "outputId": "5f72a776-550d-4b54-d865-9ecf6a3c44da"
   },
   "outputs": [
    {
     "data": {
      "text/plain": [
       "9000"
      ]
     },
     "execution_count": 38,
     "metadata": {},
     "output_type": "execute_result"
    }
   ],
   "source": [
    "X_wide.size"
   ]
  },
  {
   "cell_type": "code",
   "execution_count": 39,
   "metadata": {},
   "outputs": [
    {
     "data": {
      "text/plain": [
       "array([[ 1,  3,  5, ..., 17, 21, 25],\n",
       "       [ 1,  3,  5, ..., 17, 21, 25],\n",
       "       [ 1,  3,  5, ..., 17, 21, 25],\n",
       "       ...,\n",
       "       [ 1,  3,  5, ..., 17, 21, 25],\n",
       "       [ 1,  3,  5, ..., 17, 21, 25],\n",
       "       [ 1,  3,  5, ..., 17, 21, 25]], dtype=int64)"
      ]
     },
     "execution_count": 39,
     "metadata": {},
     "output_type": "execute_result"
    }
   ],
   "source": [
    "X_wide"
   ]
  },
  {
   "cell_type": "code",
   "execution_count": 40,
   "metadata": {
    "colab": {
     "base_uri": "https://localhost:8080/"
    },
    "executionInfo": {
     "elapsed": 1575,
     "status": "ok",
     "timestamp": 1610010962693,
     "user": {
      "displayName": "Jaewon Fastcampus",
      "photoUrl": "",
      "userId": "05122666633107220130"
     },
     "user_tz": -540
    },
    "id": "UVb_ktAIIZOg",
    "outputId": "6a4d1bcf-0dc3-42b2-ac78-7db47cf610e7"
   },
   "outputs": [
    {
     "data": {
      "text/plain": [
       "Wide(\n",
       "  (wide_linear): Embedding(29, 1, padding_idx=0)\n",
       ")"
      ]
     },
     "execution_count": 40,
     "metadata": {},
     "output_type": "execute_result"
    }
   ],
   "source": [
    "wide"
   ]
  },
  {
   "cell_type": "markdown",
   "metadata": {
    "id": "C1bSy6Op0tqM"
   },
   "source": [
    "### Deep Component"
   ]
  },
  {
   "cell_type": "code",
   "execution_count": 48,
   "metadata": {
    "executionInfo": {
     "elapsed": 1127,
     "status": "ok",
     "timestamp": 1610011022702,
     "user": {
      "displayName": "Jaewon Fastcampus",
      "photoUrl": "",
      "userId": "05122666633107220130"
     },
     "user_tz": -540
    },
    "id": "c6cZZdeY0brd"
   },
   "outputs": [],
   "source": [
    "tab_preprocessor = TabPreprocessor(embed_cols=embed_cols, continuous_cols=continuous_cols)\n",
    "X_tab = preprocess_deep.fit_transform(train_df)\n",
    "deeptabular = TabMlp(\n",
    "    mlp_hidden_dims=[64, 32],\n",
    "    column_idx=preprocess_deep.column_idx,\n",
    "    embed_input=preprocess_deep.embeddings_input,\n",
    "    continuous_cols=continuous_cols,\n",
    ")"
   ]
  },
  {
   "cell_type": "code",
   "execution_count": 50,
   "metadata": {
    "colab": {
     "base_uri": "https://localhost:8080/"
    },
    "executionInfo": {
     "elapsed": 1339,
     "status": "ok",
     "timestamp": 1610011030110,
     "user": {
      "displayName": "Jaewon Fastcampus",
      "photoUrl": "",
      "userId": "05122666633107220130"
     },
     "user_tz": -540
    },
    "id": "E3Z--ZjTIp8e",
    "outputId": "a53154b2-cf8e-405b-b6f1-690da8f0dc8a"
   },
   "outputs": [
    {
     "data": {
      "text/plain": [
       "TabMlp(\n",
       "  (embed_layers): ModuleDict(\n",
       "    (emb_layer_가족): Embedding(3, 16, padding_idx=0)\n",
       "    (emb_layer_공포): Embedding(3, 16, padding_idx=0)\n",
       "    (emb_layer_SF): Embedding(3, 16, padding_idx=0)\n",
       "  )\n",
       "  (embedding_dropout): Dropout(p=0.1, inplace=False)\n",
       "  (tab_mlp): MLP(\n",
       "    (mlp): Sequential(\n",
       "      (dense_layer_0): Sequential(\n",
       "        (0): Dropout(p=0.1, inplace=False)\n",
       "        (1): Linear(in_features=49, out_features=64, bias=True)\n",
       "        (2): ReLU(inplace=True)\n",
       "      )\n",
       "      (dense_layer_1): Sequential(\n",
       "        (0): Dropout(p=0.1, inplace=False)\n",
       "        (1): Linear(in_features=64, out_features=32, bias=True)\n",
       "        (2): ReLU(inplace=True)\n",
       "      )\n",
       "    )\n",
       "  )\n",
       ")"
      ]
     },
     "execution_count": 50,
     "metadata": {},
     "output_type": "execute_result"
    }
   ],
   "source": [
    "deeptabular"
   ]
  },
  {
   "cell_type": "markdown",
   "metadata": {
    "id": "du3Qr-Sj03B8"
   },
   "source": [
    "### Build and Train"
   ]
  },
  {
   "cell_type": "code",
   "execution_count": 53,
   "metadata": {
    "colab": {
     "base_uri": "https://localhost:8080/"
    },
    "executionInfo": {
     "elapsed": 19812,
     "status": "ok",
     "timestamp": 1610011097062,
     "user": {
      "displayName": "Jaewon Fastcampus",
      "photoUrl": "",
      "userId": "05122666633107220130"
     },
     "user_tz": -540
    },
    "id": "kJi2Zv1u02WA",
    "outputId": "952edb79-cee9-4ed0-be53-2e1fec68c53f"
   },
   "outputs": [],
   "source": [
    "# build, compile and fit\n",
    "model = WideDeep(wide=wide, deeptabular=deeptabular)"
   ]
  },
  {
   "cell_type": "code",
   "execution_count": 56,
   "metadata": {},
   "outputs": [
    {
     "name": "stderr",
     "output_type": "stream",
     "text": [
      "epoch 1: 100%|██████████| 4/4 [00:35<00:00,  8.89s/it, loss=nan, metrics={'acc': 0.1967}]\n",
      "valid: 100%|██████████| 1/1 [00:35<00:00, 35.12s/it, loss=nan, metrics={'acc': 0.0}]\n",
      "epoch 2: 100%|██████████| 4/4 [00:34<00:00,  8.72s/it, loss=nan, metrics={'acc': 0.0}]\n",
      "valid: 100%|██████████| 1/1 [00:33<00:00, 33.54s/it, loss=nan, metrics={'acc': 0.0}]\n",
      "epoch 3: 100%|██████████| 4/4 [00:33<00:00,  8.41s/it, loss=nan, metrics={'acc': 0.0}]\n",
      "valid: 100%|██████████| 1/1 [00:33<00:00, 33.65s/it, loss=nan, metrics={'acc': 0.0}]\n",
      "epoch 4: 100%|██████████| 4/4 [00:33<00:00,  8.44s/it, loss=nan, metrics={'acc': 0.0}]\n",
      "valid: 100%|██████████| 1/1 [00:33<00:00, 33.63s/it, loss=nan, metrics={'acc': 0.0}]\n",
      "epoch 5: 100%|██████████| 4/4 [00:33<00:00,  8.42s/it, loss=nan, metrics={'acc': 0.0}]\n",
      "valid: 100%|██████████| 1/1 [00:33<00:00, 33.66s/it, loss=nan, metrics={'acc': 0.0}]\n"
     ]
    }
   ],
   "source": [
    "# train the model\n",
    "trainer = Trainer(model, objective=\"binary\", metrics=[Accuracy])\n",
    "trainer.fit(\n",
    "    X_wide=X_wide,\n",
    "    X_tab=X_tab,\n",
    "    target=target,\n",
    "    n_epochs=5,\n",
    "    batch_size=256,\n",
    "    val_split=0.1,\n",
    ")"
   ]
  },
  {
   "cell_type": "code",
   "execution_count": 57,
   "metadata": {
    "id": "4ayjDHyR1qou"
   },
   "outputs": [
    {
     "name": "stderr",
     "output_type": "stream",
     "text": [
      "C:\\Users\\user\\anaconda3\\envs\\py37\\lib\\site-packages\\ipykernel\\ipkernel.py:287: DeprecationWarning: `should_run_async` will not call `transform_cell` automatically in the future. Please pass the result to `transformed_cell` argument and any exception that happen during thetransform in `preprocessing_exc_tuple` in IPython 7.17 and above.\n",
      "  and should_run_async(code)\n"
     ]
    },
    {
     "data": {
      "text/plain": [
       "(1000, 4)"
      ]
     },
     "execution_count": 57,
     "metadata": {},
     "output_type": "execute_result"
    }
   ],
   "source": [
    "X_deep.shape"
   ]
  },
  {
   "cell_type": "code",
   "execution_count": 58,
   "metadata": {
    "id": "W8AZZQnv8eIt"
   },
   "outputs": [
    {
     "data": {
      "text/plain": [
       "(1000, 9)"
      ]
     },
     "execution_count": 58,
     "metadata": {},
     "output_type": "execute_result"
    }
   ],
   "source": [
    "X_wide.shape"
   ]
  },
  {
   "cell_type": "code",
   "execution_count": null,
   "metadata": {
    "id": "3kTM03Er8fYK"
   },
   "outputs": [],
   "source": []
  }
 ],
 "metadata": {
  "accelerator": "GPU",
  "colab": {
   "authorship_tag": "ABX9TyOKtyV22+n4D1sDXv4B/eje",
   "collapsed_sections": [],
   "name": "01-딥러닝과 추천알고리즘-07-Wide&Deep Learning for Recommender System 실습.ipynb",
   "provenance": [],
   "toc_visible": true
  },
  "kernelspec": {
   "display_name": "Python 3",
   "language": "python",
   "name": "python3"
  },
  "language_info": {
   "codemirror_mode": {
    "name": "ipython",
    "version": 3
   },
   "file_extension": ".py",
   "mimetype": "text/x-python",
   "name": "python",
   "nbconvert_exporter": "python",
   "pygments_lexer": "ipython3",
   "version": "3.8.10"
  }
 },
 "nbformat": 4,
 "nbformat_minor": 4
}
